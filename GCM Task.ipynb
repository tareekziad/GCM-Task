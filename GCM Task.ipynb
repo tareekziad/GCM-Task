{
 "cells": [
  {
   "cell_type": "markdown",
   "id": "2c39a8ce",
   "metadata": {},
   "source": [
    "###### Import some helper libraries "
   ]
  },
  {
   "cell_type": "code",
   "execution_count": 2,
   "id": "2507f750",
   "metadata": {},
   "outputs": [],
   "source": [
    "import pandas as pd \n",
    "import numpy as np\n",
    "import seaborn as sns\n",
    "from datetime import datetime , timedelta\n",
    "import json\n",
    "from sklearn.impute import SimpleImputer\n",
    "import warnings\n",
    "from geopy.geocoders import Nominatim\n",
    "import time \n",
    "import googletrans\n",
    "from googletrans import *"
   ]
  },
  {
   "cell_type": "code",
   "execution_count": 3,
   "id": "608ab423",
   "metadata": {},
   "outputs": [],
   "source": [
    "warnings.filterwarnings('ignore')"
   ]
  },
  {
   "cell_type": "markdown",
   "id": "87980aff",
   "metadata": {},
   "source": [
    "###### Node 1 :\n",
    "* read data from first json file "
   ]
  },
  {
   "cell_type": "code",
   "execution_count": 4,
   "id": "96952717",
   "metadata": {
    "scrolled": false
   },
   "outputs": [
    {
     "data": {
      "text/html": [
       "<div>\n",
       "<style scoped>\n",
       "    .dataframe tbody tr th:only-of-type {\n",
       "        vertical-align: middle;\n",
       "    }\n",
       "\n",
       "    .dataframe tbody tr th {\n",
       "        vertical-align: top;\n",
       "    }\n",
       "\n",
       "    .dataframe thead th {\n",
       "        text-align: right;\n",
       "    }\n",
       "</style>\n",
       "<table border=\"1\" class=\"dataframe\">\n",
       "  <thead>\n",
       "    <tr style=\"text-align: right;\">\n",
       "      <th></th>\n",
       "      <th>device_id</th>\n",
       "      <th>latitude</th>\n",
       "      <th>longitude</th>\n",
       "      <th>snapshot_datetime</th>\n",
       "      <th>meta-data</th>\n",
       "      <th>collector_id</th>\n",
       "      <th>destination_request_id</th>\n",
       "    </tr>\n",
       "  </thead>\n",
       "  <tbody>\n",
       "    <tr>\n",
       "      <th>-MseZ2fAZ1SjLMaYOXy2</th>\n",
       "      <td>fe175d9955fced88</td>\n",
       "      <td>30.042313</td>\n",
       "      <td>31.33642</td>\n",
       "      <td>2022-01-05 16:06:42.373120</td>\n",
       "      <td>NaN</td>\n",
       "      <td>NaN</td>\n",
       "      <td>NaN</td>\n",
       "    </tr>\n",
       "    <tr>\n",
       "      <th>-MseZ3tJG5FeQy7OEB6H</th>\n",
       "      <td>fe175d9955fced88</td>\n",
       "      <td>30.042313</td>\n",
       "      <td>31.33642</td>\n",
       "      <td>2022-01-05 16:06:47.379586</td>\n",
       "      <td>NaN</td>\n",
       "      <td>NaN</td>\n",
       "      <td>NaN</td>\n",
       "    </tr>\n",
       "    <tr>\n",
       "      <th>-MseZ57uwVY_hYJ_G8nF</th>\n",
       "      <td>fe175d9955fced88</td>\n",
       "      <td>30.042313</td>\n",
       "      <td>31.33642</td>\n",
       "      <td>2022-01-05 16:06:52.473970</td>\n",
       "      <td>NaN</td>\n",
       "      <td>NaN</td>\n",
       "      <td>NaN</td>\n",
       "    </tr>\n",
       "    <tr>\n",
       "      <th>-MseZ6JS8eUMGMr-6cF0</th>\n",
       "      <td>fe175d9955fced88</td>\n",
       "      <td>30.042313</td>\n",
       "      <td>31.33642</td>\n",
       "      <td>2022-01-05 16:06:57.308858</td>\n",
       "      <td>NaN</td>\n",
       "      <td>NaN</td>\n",
       "      <td>NaN</td>\n",
       "    </tr>\n",
       "    <tr>\n",
       "      <th>-MseZ7XzNXS16vXvrVYO</th>\n",
       "      <td>fe175d9955fced88</td>\n",
       "      <td>30.042313</td>\n",
       "      <td>31.33642</td>\n",
       "      <td>2022-01-05 16:07:02.335482</td>\n",
       "      <td>NaN</td>\n",
       "      <td>NaN</td>\n",
       "      <td>NaN</td>\n",
       "    </tr>\n",
       "    <tr>\n",
       "      <th>...</th>\n",
       "      <td>...</td>\n",
       "      <td>...</td>\n",
       "      <td>...</td>\n",
       "      <td>...</td>\n",
       "      <td>...</td>\n",
       "      <td>...</td>\n",
       "      <td>...</td>\n",
       "    </tr>\n",
       "    <tr>\n",
       "      <th>-Mtc0hHsnkiQaOQzOVmM</th>\n",
       "      <td>b8e1d679ea29c711</td>\n",
       "      <td>27.204013</td>\n",
       "      <td>31.174785</td>\n",
       "      <td>2022-01-17 14:33:05.208130</td>\n",
       "      <td>NaN</td>\n",
       "      <td>51</td>\n",
       "      <td>NaN</td>\n",
       "    </tr>\n",
       "    <tr>\n",
       "      <th>-Mtc0iVkiN2I35wNbzL9</th>\n",
       "      <td>b8e1d679ea29c711</td>\n",
       "      <td>27.204013</td>\n",
       "      <td>31.174785</td>\n",
       "      <td>2022-01-17 14:33:10.192465</td>\n",
       "      <td>NaN</td>\n",
       "      <td>51</td>\n",
       "      <td>NaN</td>\n",
       "    </tr>\n",
       "    <tr>\n",
       "      <th>-Mtc0k6hQNhX_wTsUoS8</th>\n",
       "      <td>b8e1d679ea29c711</td>\n",
       "      <td>27.204012</td>\n",
       "      <td>31.174785</td>\n",
       "      <td>2022-01-17 14:33:16.780540</td>\n",
       "      <td>NaN</td>\n",
       "      <td>51</td>\n",
       "      <td>NaN</td>\n",
       "    </tr>\n",
       "    <tr>\n",
       "      <th>-Mtc0kw8uNekqxExUPw7</th>\n",
       "      <td>b8e1d679ea29c711</td>\n",
       "      <td>27.204012</td>\n",
       "      <td>31.174785</td>\n",
       "      <td>2022-01-17 14:33:20.137822</td>\n",
       "      <td>NaN</td>\n",
       "      <td>51</td>\n",
       "      <td>NaN</td>\n",
       "    </tr>\n",
       "    <tr>\n",
       "      <th>meta-data</th>\n",
       "      <td>NaN</td>\n",
       "      <td>NaN</td>\n",
       "      <td>NaN</td>\n",
       "      <td>NaN</td>\n",
       "      <td>NaN</td>\n",
       "      <td>51.0</td>\n",
       "      <td>NaN</td>\n",
       "    </tr>\n",
       "  </tbody>\n",
       "</table>\n",
       "<p>2136 rows × 7 columns</p>\n",
       "</div>"
      ],
      "text/plain": [
       "                             device_id   latitude  longitude  \\\n",
       "-MseZ2fAZ1SjLMaYOXy2  fe175d9955fced88  30.042313   31.33642   \n",
       "-MseZ3tJG5FeQy7OEB6H  fe175d9955fced88  30.042313   31.33642   \n",
       "-MseZ57uwVY_hYJ_G8nF  fe175d9955fced88  30.042313   31.33642   \n",
       "-MseZ6JS8eUMGMr-6cF0  fe175d9955fced88  30.042313   31.33642   \n",
       "-MseZ7XzNXS16vXvrVYO  fe175d9955fced88  30.042313   31.33642   \n",
       "...                                ...        ...        ...   \n",
       "-Mtc0hHsnkiQaOQzOVmM  b8e1d679ea29c711  27.204013  31.174785   \n",
       "-Mtc0iVkiN2I35wNbzL9  b8e1d679ea29c711  27.204013  31.174785   \n",
       "-Mtc0k6hQNhX_wTsUoS8  b8e1d679ea29c711  27.204012  31.174785   \n",
       "-Mtc0kw8uNekqxExUPw7  b8e1d679ea29c711  27.204012  31.174785   \n",
       "meta-data                          NaN        NaN        NaN   \n",
       "\n",
       "                               snapshot_datetime meta-data collector_id  \\\n",
       "-MseZ2fAZ1SjLMaYOXy2  2022-01-05 16:06:42.373120       NaN          NaN   \n",
       "-MseZ3tJG5FeQy7OEB6H  2022-01-05 16:06:47.379586       NaN          NaN   \n",
       "-MseZ57uwVY_hYJ_G8nF  2022-01-05 16:06:52.473970       NaN          NaN   \n",
       "-MseZ6JS8eUMGMr-6cF0  2022-01-05 16:06:57.308858       NaN          NaN   \n",
       "-MseZ7XzNXS16vXvrVYO  2022-01-05 16:07:02.335482       NaN          NaN   \n",
       "...                                          ...       ...          ...   \n",
       "-Mtc0hHsnkiQaOQzOVmM  2022-01-17 14:33:05.208130       NaN           51   \n",
       "-Mtc0iVkiN2I35wNbzL9  2022-01-17 14:33:10.192465       NaN           51   \n",
       "-Mtc0k6hQNhX_wTsUoS8  2022-01-17 14:33:16.780540       NaN           51   \n",
       "-Mtc0kw8uNekqxExUPw7  2022-01-17 14:33:20.137822       NaN           51   \n",
       "meta-data                                    NaN       NaN         51.0   \n",
       "\n",
       "                     destination_request_id  \n",
       "-MseZ2fAZ1SjLMaYOXy2                    NaN  \n",
       "-MseZ3tJG5FeQy7OEB6H                    NaN  \n",
       "-MseZ57uwVY_hYJ_G8nF                    NaN  \n",
       "-MseZ6JS8eUMGMr-6cF0                    NaN  \n",
       "-MseZ7XzNXS16vXvrVYO                    NaN  \n",
       "...                                     ...  \n",
       "-Mtc0hHsnkiQaOQzOVmM                    NaN  \n",
       "-Mtc0iVkiN2I35wNbzL9                    NaN  \n",
       "-Mtc0k6hQNhX_wTsUoS8                    NaN  \n",
       "-Mtc0kw8uNekqxExUPw7                    NaN  \n",
       "meta-data                               NaN  \n",
       "\n",
       "[2136 rows x 7 columns]"
      ]
     },
     "execution_count": 4,
     "metadata": {},
     "output_type": "execute_result"
    }
   ],
   "source": [
    "df = pd.read_json('tagaddod-d8ffe--MsZkGFSCtYxntenMuVF-export.json').T\n",
    "df"
   ]
  },
  {
   "cell_type": "markdown",
   "id": "bee15653",
   "metadata": {},
   "source": [
    "###### collector location is an index make it as feature "
   ]
  },
  {
   "cell_type": "code",
   "execution_count": 5,
   "id": "5eea7607",
   "metadata": {},
   "outputs": [],
   "source": [
    "df.reset_index(inplace = True)"
   ]
  },
  {
   "cell_type": "code",
   "execution_count": 6,
   "id": "e93d1b20",
   "metadata": {},
   "outputs": [],
   "source": [
    "df.rename(columns = {'index' : 'collector_location'} , inplace = True)"
   ]
  },
  {
   "cell_type": "markdown",
   "id": "f099b841",
   "metadata": {},
   "source": [
    "###### check Percentage of missing records "
   ]
  },
  {
   "cell_type": "code",
   "execution_count": 7,
   "id": "b290d8cf",
   "metadata": {
    "scrolled": true
   },
   "outputs": [
    {
     "data": {
      "text/plain": [
       "collector_location         0.000000\n",
       "device_id                  0.093633\n",
       "latitude                   0.093633\n",
       "longitude                  0.093633\n",
       "snapshot_datetime          0.093633\n",
       "meta-data                 99.953184\n",
       "collector_id              14.981273\n",
       "destination_request_id    62.593633\n",
       "dtype: float64"
      ]
     },
     "execution_count": 7,
     "metadata": {},
     "output_type": "execute_result"
    }
   ],
   "source": [
    "df.isnull().mean()*100"
   ]
  },
  {
   "cell_type": "markdown",
   "id": "dae648d8",
   "metadata": {},
   "source": [
    "###### meta-data & destination request id have much missing we cant get benefit from them "
   ]
  },
  {
   "cell_type": "code",
   "execution_count": 8,
   "id": "4a528c72",
   "metadata": {},
   "outputs": [],
   "source": [
    "df.drop(['meta-data' , 'destination_request_id'] , inplace = True , axis = 1)"
   ]
  },
  {
   "cell_type": "code",
   "execution_count": 9,
   "id": "987eab9d",
   "metadata": {
    "scrolled": false
   },
   "outputs": [],
   "source": [
    "# Not understandable row !!! \n",
    "df.drop([2135] , axis = 0 , inplace = True)"
   ]
  },
  {
   "cell_type": "code",
   "execution_count": 9,
   "id": "00b6633a",
   "metadata": {},
   "outputs": [
    {
     "name": "stdout",
     "output_type": "stream",
     "text": [
      "<class 'pandas.core.frame.DataFrame'>\n",
      "RangeIndex: 2135 entries, 0 to 2134\n",
      "Data columns (total 6 columns):\n",
      " #   Column              Non-Null Count  Dtype \n",
      "---  ------              --------------  ----- \n",
      " 0   collector_location  2135 non-null   object\n",
      " 1   device_id           2134 non-null   object\n",
      " 2   latitude            2134 non-null   object\n",
      " 3   longitude           2134 non-null   object\n",
      " 4   snapshot_datetime   2134 non-null   object\n",
      " 5   collector_id        1815 non-null   object\n",
      "dtypes: object(6)\n",
      "memory usage: 100.2+ KB\n"
     ]
    }
   ],
   "source": [
    "df.info()"
   ]
  },
  {
   "cell_type": "code",
   "execution_count": 10,
   "id": "6e5037c0",
   "metadata": {},
   "outputs": [
    {
     "data": {
      "text/plain": [
       "array(['fe175d9955fced88', 'b8e1d679ea29c711', nan, 'N/A'], dtype=object)"
      ]
     },
     "execution_count": 10,
     "metadata": {},
     "output_type": "execute_result"
    }
   ],
   "source": [
    "df['device_id'].unique()"
   ]
  },
  {
   "cell_type": "markdown",
   "id": "869625a4",
   "metadata": {},
   "source": [
    "###### device id has value as object (str) 'N/A' converted to nan (null)"
   ]
  },
  {
   "cell_type": "code",
   "execution_count": 11,
   "id": "bcce3746",
   "metadata": {},
   "outputs": [],
   "source": [
    "df['device_id'] = df['device_id'].apply(lambda x : np.nan if x == 'N/A' else x )"
   ]
  },
  {
   "cell_type": "code",
   "execution_count": 12,
   "id": "5f868e30",
   "metadata": {},
   "outputs": [
    {
     "data": {
      "text/plain": [
       "array(['fe175d9955fced88', 'b8e1d679ea29c711', nan], dtype=object)"
      ]
     },
     "execution_count": 12,
     "metadata": {},
     "output_type": "execute_result"
    }
   ],
   "source": [
    "df['device_id'].unique()"
   ]
  },
  {
   "cell_type": "markdown",
   "id": "125499f4",
   "metadata": {},
   "source": [
    "###### data is sorted by time we can fill missing record by forward fill "
   ]
  },
  {
   "cell_type": "code",
   "execution_count": 13,
   "id": "9dd996bc",
   "metadata": {},
   "outputs": [],
   "source": [
    "df['device_id'].fillna(method = 'ffill' , inplace = True)"
   ]
  },
  {
   "cell_type": "code",
   "execution_count": 14,
   "id": "3af93bd8",
   "metadata": {},
   "outputs": [
    {
     "data": {
      "text/plain": [
       "b8e1d679ea29c711    1124\n",
       "fe175d9955fced88    1011\n",
       "Name: device_id, dtype: int64"
      ]
     },
     "execution_count": 14,
     "metadata": {},
     "output_type": "execute_result"
    }
   ],
   "source": [
    "df['device_id'].value_counts()"
   ]
  },
  {
   "cell_type": "markdown",
   "id": "e58915f2",
   "metadata": {},
   "source": [
    "###### there is one collector with id = 51 "
   ]
  },
  {
   "cell_type": "code",
   "execution_count": 15,
   "id": "c7a8505c",
   "metadata": {
    "scrolled": true
   },
   "outputs": [
    {
     "data": {
      "text/plain": [
       "array([nan, '51'], dtype=object)"
      ]
     },
     "execution_count": 15,
     "metadata": {},
     "output_type": "execute_result"
    }
   ],
   "source": [
    "df['collector_id'].unique()"
   ]
  },
  {
   "cell_type": "code",
   "execution_count": 16,
   "id": "a5c5f09d",
   "metadata": {},
   "outputs": [
    {
     "data": {
      "text/plain": [
       "51    1815\n",
       "Name: collector_id, dtype: int64"
      ]
     },
     "execution_count": 16,
     "metadata": {},
     "output_type": "execute_result"
    }
   ],
   "source": [
    "df['collector_id'].value_counts()"
   ]
  },
  {
   "cell_type": "code",
   "execution_count": 17,
   "id": "d8741375",
   "metadata": {},
   "outputs": [],
   "source": [
    "sm = SimpleImputer(strategy = 'most_frequent')"
   ]
  },
  {
   "cell_type": "code",
   "execution_count": 18,
   "id": "394e88bc",
   "metadata": {},
   "outputs": [],
   "source": [
    "df['collector_id'] = sm.fit_transform(df[['collector_id']])"
   ]
  },
  {
   "cell_type": "markdown",
   "id": "39eea9e0",
   "metadata": {},
   "source": [
    "###### convert datatime from object (string) to datetime "
   ]
  },
  {
   "cell_type": "code",
   "execution_count": 19,
   "id": "6cca1e70",
   "metadata": {
    "scrolled": true
   },
   "outputs": [
    {
     "data": {
      "text/plain": [
       "dtype('O')"
      ]
     },
     "execution_count": 19,
     "metadata": {},
     "output_type": "execute_result"
    }
   ],
   "source": [
    "df['snapshot_datetime'].dtype"
   ]
  },
  {
   "cell_type": "code",
   "execution_count": 11,
   "id": "5492ba17",
   "metadata": {},
   "outputs": [],
   "source": [
    "df['snapshot_datetime'] = pd.to_datetime(df['snapshot_datetime'] , errors = 'coerce')"
   ]
  },
  {
   "cell_type": "code",
   "execution_count": 12,
   "id": "f4ffa44a",
   "metadata": {
    "scrolled": true
   },
   "outputs": [
    {
     "data": {
      "text/plain": [
       "0      2022-01-05 16:06:42.373120\n",
       "1      2022-01-05 16:06:47.379586\n",
       "2      2022-01-05 16:06:52.473970\n",
       "3      2022-01-05 16:06:57.308858\n",
       "4      2022-01-05 16:07:02.335482\n",
       "                  ...            \n",
       "2131   2022-01-17 14:33:05.208130\n",
       "2132   2022-01-17 14:33:10.192465\n",
       "2133   2022-01-17 14:33:16.780540\n",
       "2134   2022-01-17 14:33:20.137822\n",
       "223                           NaT\n",
       "Name: snapshot_datetime, Length: 2135, dtype: datetime64[ns]"
      ]
     },
     "execution_count": 12,
     "metadata": {},
     "output_type": "execute_result"
    }
   ],
   "source": [
    "df['snapshot_datetime'].sort_values() \n",
    "# sort here to show strange value (Nat) -- > (not a time )"
   ]
  },
  {
   "cell_type": "markdown",
   "id": "69640225",
   "metadata": {},
   "source": [
    "###### timestamps every two seconds\n",
    "we can drop this value & we can add to the previous one 2 sec "
   ]
  },
  {
   "cell_type": "code",
   "execution_count": 22,
   "id": "4df4b0db",
   "metadata": {},
   "outputs": [],
   "source": [
    "df['snapshot_datetime'].loc[223] = df['snapshot_datetime'].loc[222] + timedelta(seconds=2)"
   ]
  },
  {
   "cell_type": "code",
   "execution_count": 23,
   "id": "29446dc8",
   "metadata": {},
   "outputs": [
    {
     "data": {
      "text/plain": [
       "collector_location    0.000000\n",
       "device_id             0.000000\n",
       "latitude              0.046838\n",
       "longitude             0.046838\n",
       "snapshot_datetime     0.000000\n",
       "collector_id          0.000000\n",
       "dtype: float64"
      ]
     },
     "execution_count": 23,
     "metadata": {},
     "output_type": "execute_result"
    }
   ],
   "source": [
    "df.isnull().mean()*100"
   ]
  },
  {
   "cell_type": "markdown",
   "id": "0b80a2b4",
   "metadata": {},
   "source": [
    "###### latitude & longitude have some missing with low percentage we can drop them "
   ]
  },
  {
   "cell_type": "code",
   "execution_count": 24,
   "id": "00576c3e",
   "metadata": {},
   "outputs": [],
   "source": [
    "df.dropna(subset = ['latitude' , 'longitude'] , axis = 0 , inplace = True)"
   ]
  },
  {
   "cell_type": "code",
   "execution_count": 25,
   "id": "102c6841",
   "metadata": {},
   "outputs": [],
   "source": [
    "df.reset_index(inplace = True , drop = True)"
   ]
  },
  {
   "cell_type": "code",
   "execution_count": 26,
   "id": "39b47695",
   "metadata": {},
   "outputs": [],
   "source": [
    "col = ['collector_location','collector_id','device_id',\n",
    "         'latitude','longitude','snapshot_datetime']"
   ]
  },
  {
   "cell_type": "code",
   "execution_count": 27,
   "id": "156498da",
   "metadata": {},
   "outputs": [],
   "source": [
    "df = df[col]"
   ]
  },
  {
   "cell_type": "code",
   "execution_count": 28,
   "id": "e0d1fb25",
   "metadata": {},
   "outputs": [
    {
     "data": {
      "text/html": [
       "<div>\n",
       "<style scoped>\n",
       "    .dataframe tbody tr th:only-of-type {\n",
       "        vertical-align: middle;\n",
       "    }\n",
       "\n",
       "    .dataframe tbody tr th {\n",
       "        vertical-align: top;\n",
       "    }\n",
       "\n",
       "    .dataframe thead th {\n",
       "        text-align: right;\n",
       "    }\n",
       "</style>\n",
       "<table border=\"1\" class=\"dataframe\">\n",
       "  <thead>\n",
       "    <tr style=\"text-align: right;\">\n",
       "      <th></th>\n",
       "      <th>collector_location</th>\n",
       "      <th>collector_id</th>\n",
       "      <th>device_id</th>\n",
       "      <th>latitude</th>\n",
       "      <th>longitude</th>\n",
       "      <th>snapshot_datetime</th>\n",
       "    </tr>\n",
       "  </thead>\n",
       "  <tbody>\n",
       "    <tr>\n",
       "      <th>2131</th>\n",
       "      <td>-Mtc0iVkiN2I35wNbzL9</td>\n",
       "      <td>51</td>\n",
       "      <td>b8e1d679ea29c711</td>\n",
       "      <td>27.204013</td>\n",
       "      <td>31.174785</td>\n",
       "      <td>2022-01-17 14:33:10.192465</td>\n",
       "    </tr>\n",
       "    <tr>\n",
       "      <th>2132</th>\n",
       "      <td>-Mtc0k6hQNhX_wTsUoS8</td>\n",
       "      <td>51</td>\n",
       "      <td>b8e1d679ea29c711</td>\n",
       "      <td>27.204012</td>\n",
       "      <td>31.174785</td>\n",
       "      <td>2022-01-17 14:33:16.780540</td>\n",
       "    </tr>\n",
       "    <tr>\n",
       "      <th>2133</th>\n",
       "      <td>-Mtc0kw8uNekqxExUPw7</td>\n",
       "      <td>51</td>\n",
       "      <td>b8e1d679ea29c711</td>\n",
       "      <td>27.204012</td>\n",
       "      <td>31.174785</td>\n",
       "      <td>2022-01-17 14:33:20.137822</td>\n",
       "    </tr>\n",
       "  </tbody>\n",
       "</table>\n",
       "</div>"
      ],
      "text/plain": [
       "        collector_location collector_id         device_id   latitude  \\\n",
       "2131  -Mtc0iVkiN2I35wNbzL9           51  b8e1d679ea29c711  27.204013   \n",
       "2132  -Mtc0k6hQNhX_wTsUoS8           51  b8e1d679ea29c711  27.204012   \n",
       "2133  -Mtc0kw8uNekqxExUPw7           51  b8e1d679ea29c711  27.204012   \n",
       "\n",
       "      longitude          snapshot_datetime  \n",
       "2131  31.174785 2022-01-17 14:33:10.192465  \n",
       "2132  31.174785 2022-01-17 14:33:16.780540  \n",
       "2133  31.174785 2022-01-17 14:33:20.137822  "
      ]
     },
     "execution_count": 28,
     "metadata": {},
     "output_type": "execute_result"
    }
   ],
   "source": [
    "df.tail(3)"
   ]
  },
  {
   "cell_type": "markdown",
   "id": "2d655846",
   "metadata": {},
   "source": [
    "# Node 2 : \n",
    "* Second json file "
   ]
  },
  {
   "cell_type": "code",
   "execution_count": 29,
   "id": "db342d0f",
   "metadata": {},
   "outputs": [
    {
     "data": {
      "text/html": [
       "<div>\n",
       "<style scoped>\n",
       "    .dataframe tbody tr th:only-of-type {\n",
       "        vertical-align: middle;\n",
       "    }\n",
       "\n",
       "    .dataframe tbody tr th {\n",
       "        vertical-align: top;\n",
       "    }\n",
       "\n",
       "    .dataframe thead th {\n",
       "        text-align: right;\n",
       "    }\n",
       "</style>\n",
       "<table border=\"1\" class=\"dataframe\">\n",
       "  <thead>\n",
       "    <tr style=\"text-align: right;\">\n",
       "      <th></th>\n",
       "      <th>collector_id</th>\n",
       "      <th>device_id</th>\n",
       "      <th>latitude</th>\n",
       "      <th>longitude</th>\n",
       "      <th>snapshot_datetime</th>\n",
       "      <th>destination_request_id</th>\n",
       "    </tr>\n",
       "  </thead>\n",
       "  <tbody>\n",
       "    <tr>\n",
       "      <th>-Mu1Ke3YXnTlv_8zTedq</th>\n",
       "      <td>99</td>\n",
       "      <td>a5f55343f48cf3b2</td>\n",
       "      <td>30.915783</td>\n",
       "      <td>30.299763</td>\n",
       "      <td>2022-01-22 17:10:22.499088</td>\n",
       "      <td>NaN</td>\n",
       "    </tr>\n",
       "    <tr>\n",
       "      <th>-Mu1KfCkHPhyBE-_P9_y</th>\n",
       "      <td>99</td>\n",
       "      <td>a5f55343f48cf3b2</td>\n",
       "      <td>30.915783</td>\n",
       "      <td>30.299763</td>\n",
       "      <td>2022-01-22 17:10:27.184939</td>\n",
       "      <td>NaN</td>\n",
       "    </tr>\n",
       "    <tr>\n",
       "      <th>-Mu1KgR2hK2WOQDXF6d1</th>\n",
       "      <td>99</td>\n",
       "      <td>a5f55343f48cf3b2</td>\n",
       "      <td>30.915275</td>\n",
       "      <td>30.300481</td>\n",
       "      <td>2022-01-22 17:10:32.195519</td>\n",
       "      <td>NaN</td>\n",
       "    </tr>\n",
       "    <tr>\n",
       "      <th>-Mu1KheX3sUPsJ_26x0F</th>\n",
       "      <td>99</td>\n",
       "      <td>a5f55343f48cf3b2</td>\n",
       "      <td>30.915274</td>\n",
       "      <td>30.300482</td>\n",
       "      <td>2022-01-22 17:10:37.218805</td>\n",
       "      <td>NaN</td>\n",
       "    </tr>\n",
       "    <tr>\n",
       "      <th>-Mu1KisXMKQhSuocFh8c</th>\n",
       "      <td>99</td>\n",
       "      <td>a5f55343f48cf3b2</td>\n",
       "      <td>30.915278</td>\n",
       "      <td>30.300476</td>\n",
       "      <td>2022-01-22 17:10:42.210450</td>\n",
       "      <td>NaN</td>\n",
       "    </tr>\n",
       "    <tr>\n",
       "      <th>...</th>\n",
       "      <td>...</td>\n",
       "      <td>...</td>\n",
       "      <td>...</td>\n",
       "      <td>...</td>\n",
       "      <td>...</td>\n",
       "      <td>...</td>\n",
       "    </tr>\n",
       "    <tr>\n",
       "      <th>-MzvGt-m9CfNkqsIPlbr</th>\n",
       "      <td>99</td>\n",
       "      <td>3967850978244b31</td>\n",
       "      <td>31.092501</td>\n",
       "      <td>29.737423</td>\n",
       "      <td>2022-04-05 21:50:45.554494</td>\n",
       "      <td>NaN</td>\n",
       "    </tr>\n",
       "    <tr>\n",
       "      <th>-MzvGtefijvGFluLYhyy</th>\n",
       "      <td>99</td>\n",
       "      <td>3967850978244b31</td>\n",
       "      <td>31.092501</td>\n",
       "      <td>29.737423</td>\n",
       "      <td>2022-04-05 21:50:48.235675</td>\n",
       "      <td>NaN</td>\n",
       "    </tr>\n",
       "    <tr>\n",
       "      <th>-MzvGv-n48kWM9rqV-Jn</th>\n",
       "      <td>99</td>\n",
       "      <td>3967850978244b31</td>\n",
       "      <td>31.092501</td>\n",
       "      <td>29.737423</td>\n",
       "      <td>2022-04-05 21:50:53.747493</td>\n",
       "      <td>NaN</td>\n",
       "    </tr>\n",
       "    <tr>\n",
       "      <th>-MzvGw3gLwADyqQG61Gf</th>\n",
       "      <td>99</td>\n",
       "      <td>3967850978244b31</td>\n",
       "      <td>31.092501</td>\n",
       "      <td>29.737423</td>\n",
       "      <td>2022-04-05 21:50:58.092109</td>\n",
       "      <td>NaN</td>\n",
       "    </tr>\n",
       "    <tr>\n",
       "      <th>meta-data</th>\n",
       "      <td>99.0</td>\n",
       "      <td>NaN</td>\n",
       "      <td>NaN</td>\n",
       "      <td>NaN</td>\n",
       "      <td>NaN</td>\n",
       "      <td>NaN</td>\n",
       "    </tr>\n",
       "  </tbody>\n",
       "</table>\n",
       "<p>18248 rows × 6 columns</p>\n",
       "</div>"
      ],
      "text/plain": [
       "                     collector_id         device_id   latitude  longitude  \\\n",
       "-Mu1Ke3YXnTlv_8zTedq           99  a5f55343f48cf3b2  30.915783  30.299763   \n",
       "-Mu1KfCkHPhyBE-_P9_y           99  a5f55343f48cf3b2  30.915783  30.299763   \n",
       "-Mu1KgR2hK2WOQDXF6d1           99  a5f55343f48cf3b2  30.915275  30.300481   \n",
       "-Mu1KheX3sUPsJ_26x0F           99  a5f55343f48cf3b2  30.915274  30.300482   \n",
       "-Mu1KisXMKQhSuocFh8c           99  a5f55343f48cf3b2  30.915278  30.300476   \n",
       "...                           ...               ...        ...        ...   \n",
       "-MzvGt-m9CfNkqsIPlbr           99  3967850978244b31  31.092501  29.737423   \n",
       "-MzvGtefijvGFluLYhyy           99  3967850978244b31  31.092501  29.737423   \n",
       "-MzvGv-n48kWM9rqV-Jn           99  3967850978244b31  31.092501  29.737423   \n",
       "-MzvGw3gLwADyqQG61Gf           99  3967850978244b31  31.092501  29.737423   \n",
       "meta-data                    99.0               NaN        NaN        NaN   \n",
       "\n",
       "                               snapshot_datetime destination_request_id  \n",
       "-Mu1Ke3YXnTlv_8zTedq  2022-01-22 17:10:22.499088                    NaN  \n",
       "-Mu1KfCkHPhyBE-_P9_y  2022-01-22 17:10:27.184939                    NaN  \n",
       "-Mu1KgR2hK2WOQDXF6d1  2022-01-22 17:10:32.195519                    NaN  \n",
       "-Mu1KheX3sUPsJ_26x0F  2022-01-22 17:10:37.218805                    NaN  \n",
       "-Mu1KisXMKQhSuocFh8c  2022-01-22 17:10:42.210450                    NaN  \n",
       "...                                          ...                    ...  \n",
       "-MzvGt-m9CfNkqsIPlbr  2022-04-05 21:50:45.554494                    NaN  \n",
       "-MzvGtefijvGFluLYhyy  2022-04-05 21:50:48.235675                    NaN  \n",
       "-MzvGv-n48kWM9rqV-Jn  2022-04-05 21:50:53.747493                    NaN  \n",
       "-MzvGw3gLwADyqQG61Gf  2022-04-05 21:50:58.092109                    NaN  \n",
       "meta-data                                    NaN                    NaN  \n",
       "\n",
       "[18248 rows x 6 columns]"
      ]
     },
     "execution_count": 29,
     "metadata": {},
     "output_type": "execute_result"
    }
   ],
   "source": [
    "df1 = pd.read_json('tagaddod-d8ffe--MszT9RZtTjcM5PwTCBH-export.json').T\n",
    "df1"
   ]
  },
  {
   "cell_type": "code",
   "execution_count": 30,
   "id": "ce7235d3",
   "metadata": {
    "scrolled": true
   },
   "outputs": [
    {
     "name": "stdout",
     "output_type": "stream",
     "text": [
      "<class 'pandas.core.frame.DataFrame'>\n",
      "Index: 18248 entries, -Mu1Ke3YXnTlv_8zTedq to meta-data\n",
      "Data columns (total 6 columns):\n",
      " #   Column                  Non-Null Count  Dtype \n",
      "---  ------                  --------------  ----- \n",
      " 0   collector_id            18248 non-null  object\n",
      " 1   device_id               18247 non-null  object\n",
      " 2   latitude                18198 non-null  object\n",
      " 3   longitude               18198 non-null  object\n",
      " 4   snapshot_datetime       18247 non-null  object\n",
      " 5   destination_request_id  7531 non-null   object\n",
      "dtypes: object(6)\n",
      "memory usage: 1.5+ MB\n"
     ]
    }
   ],
   "source": [
    "df1.info()"
   ]
  },
  {
   "cell_type": "markdown",
   "id": "fb4bbd18",
   "metadata": {},
   "source": [
    "###### convert collector location as feature "
   ]
  },
  {
   "cell_type": "code",
   "execution_count": 31,
   "id": "8f24b129",
   "metadata": {
    "scrolled": true
   },
   "outputs": [],
   "source": [
    "df1.reset_index(inplace = True)"
   ]
  },
  {
   "cell_type": "code",
   "execution_count": 32,
   "id": "5006cf35",
   "metadata": {},
   "outputs": [],
   "source": [
    "df1.rename(columns = {'index' : 'collector_location'} , inplace = True)"
   ]
  },
  {
   "cell_type": "code",
   "execution_count": 33,
   "id": "653216be",
   "metadata": {
    "scrolled": true
   },
   "outputs": [
    {
     "data": {
      "text/plain": [
       "collector_location         0.000000\n",
       "collector_id               0.000000\n",
       "device_id                  0.005480\n",
       "latitude                   0.274003\n",
       "longitude                  0.274003\n",
       "snapshot_datetime          0.005480\n",
       "destination_request_id    58.729724\n",
       "dtype: float64"
      ]
     },
     "execution_count": 33,
     "metadata": {},
     "output_type": "execute_result"
    }
   ],
   "source": [
    "df1.isnull().mean()*100"
   ]
  },
  {
   "cell_type": "markdown",
   "id": "bb83dc28",
   "metadata": {},
   "source": [
    "###### Drop destination_request_id has many missing "
   ]
  },
  {
   "cell_type": "code",
   "execution_count": 34,
   "id": "d2b604e3",
   "metadata": {},
   "outputs": [],
   "source": [
    "df1.drop(['destination_request_id'] , inplace = True , axis = 1)"
   ]
  },
  {
   "cell_type": "code",
   "execution_count": 35,
   "id": "ab82ebee",
   "metadata": {},
   "outputs": [],
   "source": [
    "df1.drop([18247] , axis = 0 , inplace = True)"
   ]
  },
  {
   "cell_type": "code",
   "execution_count": 36,
   "id": "e0295374",
   "metadata": {},
   "outputs": [
    {
     "data": {
      "text/plain": [
       "collector_location    0.000000\n",
       "collector_id          0.000000\n",
       "device_id             0.000000\n",
       "latitude              0.268537\n",
       "longitude             0.268537\n",
       "snapshot_datetime     0.000000\n",
       "dtype: float64"
      ]
     },
     "execution_count": 36,
     "metadata": {},
     "output_type": "execute_result"
    }
   ],
   "source": [
    "df1.isnull().mean()*100"
   ]
  },
  {
   "cell_type": "code",
   "execution_count": 37,
   "id": "2a62a6ea",
   "metadata": {},
   "outputs": [
    {
     "data": {
      "text/plain": [
       "array(['99'], dtype=object)"
      ]
     },
     "execution_count": 37,
     "metadata": {},
     "output_type": "execute_result"
    }
   ],
   "source": [
    "df1['collector_id'].unique()"
   ]
  },
  {
   "cell_type": "code",
   "execution_count": 38,
   "id": "57238ee5",
   "metadata": {},
   "outputs": [
    {
     "data": {
      "text/plain": [
       "array(['a5f55343f48cf3b2', '96ddc11dcb259ebd', '3967850978244b31'],\n",
       "      dtype=object)"
      ]
     },
     "execution_count": 38,
     "metadata": {},
     "output_type": "execute_result"
    }
   ],
   "source": [
    "df1['device_id'].unique()"
   ]
  },
  {
   "cell_type": "markdown",
   "id": "874c411e",
   "metadata": {},
   "source": [
    "###### convert date time from str to datetime "
   ]
  },
  {
   "cell_type": "code",
   "execution_count": 39,
   "id": "5e174871",
   "metadata": {},
   "outputs": [],
   "source": [
    "df1['snapshot_datetime'] = pd.to_datetime(df1['snapshot_datetime'] \n",
    "                                          , errors = 'coerce' ,\n",
    "                                          format = '%Y-%m-%d %H:%M:%S')"
   ]
  },
  {
   "cell_type": "code",
   "execution_count": 40,
   "id": "85b25343",
   "metadata": {},
   "outputs": [
    {
     "data": {
      "text/plain": [
       "collector_location            object\n",
       "collector_id                  object\n",
       "device_id                     object\n",
       "latitude                      object\n",
       "longitude                     object\n",
       "snapshot_datetime     datetime64[ns]\n",
       "dtype: object"
      ]
     },
     "execution_count": 40,
     "metadata": {},
     "output_type": "execute_result"
    }
   ],
   "source": [
    "df1.dtypes"
   ]
  },
  {
   "cell_type": "code",
   "execution_count": 41,
   "id": "ebebfe9f",
   "metadata": {},
   "outputs": [],
   "source": [
    "df1.dropna(subset = ['latitude' , 'longitude'] , axis = 0 , inplace = True)"
   ]
  },
  {
   "cell_type": "code",
   "execution_count": 42,
   "id": "3a2d3515",
   "metadata": {
    "scrolled": true
   },
   "outputs": [
    {
     "data": {
      "text/plain": [
       "collector_location    0.0\n",
       "collector_id          0.0\n",
       "device_id             0.0\n",
       "latitude              0.0\n",
       "longitude             0.0\n",
       "snapshot_datetime     0.0\n",
       "dtype: float64"
      ]
     },
     "execution_count": 42,
     "metadata": {},
     "output_type": "execute_result"
    }
   ],
   "source": [
    "df1.isnull().mean()*100"
   ]
  },
  {
   "cell_type": "code",
   "execution_count": 43,
   "id": "7642f2ef",
   "metadata": {},
   "outputs": [],
   "source": [
    "df1.reset_index(inplace = True , drop = True)"
   ]
  },
  {
   "cell_type": "code",
   "execution_count": 44,
   "id": "887c2989",
   "metadata": {},
   "outputs": [
    {
     "data": {
      "text/plain": [
       "['collector_location',\n",
       " 'collector_id',\n",
       " 'device_id',\n",
       " 'latitude',\n",
       " 'longitude',\n",
       " 'snapshot_datetime']"
      ]
     },
     "execution_count": 44,
     "metadata": {},
     "output_type": "execute_result"
    }
   ],
   "source": [
    "col"
   ]
  },
  {
   "cell_type": "code",
   "execution_count": 45,
   "id": "48fdab22",
   "metadata": {
    "scrolled": true
   },
   "outputs": [],
   "source": [
    "df1 = df1[col]"
   ]
  },
  {
   "cell_type": "code",
   "execution_count": 46,
   "id": "94fe63e1",
   "metadata": {},
   "outputs": [
    {
     "data": {
      "text/html": [
       "<div>\n",
       "<style scoped>\n",
       "    .dataframe tbody tr th:only-of-type {\n",
       "        vertical-align: middle;\n",
       "    }\n",
       "\n",
       "    .dataframe tbody tr th {\n",
       "        vertical-align: top;\n",
       "    }\n",
       "\n",
       "    .dataframe thead th {\n",
       "        text-align: right;\n",
       "    }\n",
       "</style>\n",
       "<table border=\"1\" class=\"dataframe\">\n",
       "  <thead>\n",
       "    <tr style=\"text-align: right;\">\n",
       "      <th></th>\n",
       "      <th>collector_location</th>\n",
       "      <th>collector_id</th>\n",
       "      <th>device_id</th>\n",
       "      <th>latitude</th>\n",
       "      <th>longitude</th>\n",
       "      <th>snapshot_datetime</th>\n",
       "    </tr>\n",
       "  </thead>\n",
       "  <tbody>\n",
       "    <tr>\n",
       "      <th>18195</th>\n",
       "      <td>-MzvGtefijvGFluLYhyy</td>\n",
       "      <td>99</td>\n",
       "      <td>3967850978244b31</td>\n",
       "      <td>31.092501</td>\n",
       "      <td>29.737423</td>\n",
       "      <td>2022-04-05 21:50:48.235675</td>\n",
       "    </tr>\n",
       "    <tr>\n",
       "      <th>18196</th>\n",
       "      <td>-MzvGv-n48kWM9rqV-Jn</td>\n",
       "      <td>99</td>\n",
       "      <td>3967850978244b31</td>\n",
       "      <td>31.092501</td>\n",
       "      <td>29.737423</td>\n",
       "      <td>2022-04-05 21:50:53.747493</td>\n",
       "    </tr>\n",
       "    <tr>\n",
       "      <th>18197</th>\n",
       "      <td>-MzvGw3gLwADyqQG61Gf</td>\n",
       "      <td>99</td>\n",
       "      <td>3967850978244b31</td>\n",
       "      <td>31.092501</td>\n",
       "      <td>29.737423</td>\n",
       "      <td>2022-04-05 21:50:58.092109</td>\n",
       "    </tr>\n",
       "  </tbody>\n",
       "</table>\n",
       "</div>"
      ],
      "text/plain": [
       "         collector_location collector_id         device_id   latitude  \\\n",
       "18195  -MzvGtefijvGFluLYhyy           99  3967850978244b31  31.092501   \n",
       "18196  -MzvGv-n48kWM9rqV-Jn           99  3967850978244b31  31.092501   \n",
       "18197  -MzvGw3gLwADyqQG61Gf           99  3967850978244b31  31.092501   \n",
       "\n",
       "       longitude          snapshot_datetime  \n",
       "18195  29.737423 2022-04-05 21:50:48.235675  \n",
       "18196  29.737423 2022-04-05 21:50:53.747493  \n",
       "18197  29.737423 2022-04-05 21:50:58.092109  "
      ]
     },
     "execution_count": 46,
     "metadata": {},
     "output_type": "execute_result"
    }
   ],
   "source": [
    "df1.tail(3)"
   ]
  },
  {
   "cell_type": "markdown",
   "id": "1da7900a",
   "metadata": {},
   "source": [
    "# Node 3 :\n",
    "third json file "
   ]
  },
  {
   "cell_type": "code",
   "execution_count": 47,
   "id": "b973083b",
   "metadata": {},
   "outputs": [
    {
     "data": {
      "text/html": [
       "<div>\n",
       "<style scoped>\n",
       "    .dataframe tbody tr th:only-of-type {\n",
       "        vertical-align: middle;\n",
       "    }\n",
       "\n",
       "    .dataframe tbody tr th {\n",
       "        vertical-align: top;\n",
       "    }\n",
       "\n",
       "    .dataframe thead th {\n",
       "        text-align: right;\n",
       "    }\n",
       "</style>\n",
       "<table border=\"1\" class=\"dataframe\">\n",
       "  <thead>\n",
       "    <tr style=\"text-align: right;\">\n",
       "      <th></th>\n",
       "      <th>collector_id</th>\n",
       "      <th>device_id</th>\n",
       "      <th>latitude</th>\n",
       "      <th>longitude</th>\n",
       "      <th>snapshot_datetime</th>\n",
       "      <th>destination_request_id</th>\n",
       "    </tr>\n",
       "  </thead>\n",
       "  <tbody>\n",
       "    <tr>\n",
       "      <th>-MwWgmIKz8ZLI-S3HtAp</th>\n",
       "      <td>157</td>\n",
       "      <td>0891846aad4e869e</td>\n",
       "      <td>29.952633</td>\n",
       "      <td>30.888284</td>\n",
       "      <td>2022-02-22 15:51:02.869005</td>\n",
       "      <td>NaN</td>\n",
       "    </tr>\n",
       "    <tr>\n",
       "      <th>-MwWgmyb-JvddB_4D41K</th>\n",
       "      <td>157</td>\n",
       "      <td>0891846aad4e869e</td>\n",
       "      <td>29.952633</td>\n",
       "      <td>30.888284</td>\n",
       "      <td>2022-02-22 15:51:05.639681</td>\n",
       "      <td>NaN</td>\n",
       "    </tr>\n",
       "    <tr>\n",
       "      <th>-MwWgoX1YBF7jLDYPzHj</th>\n",
       "      <td>157</td>\n",
       "      <td>0891846aad4e869e</td>\n",
       "      <td>29.952638</td>\n",
       "      <td>30.888283</td>\n",
       "      <td>2022-02-22 15:51:12.002744</td>\n",
       "      <td>NaN</td>\n",
       "    </tr>\n",
       "    <tr>\n",
       "      <th>-MwWgpLvpj_9XZK1rza7</th>\n",
       "      <td>157</td>\n",
       "      <td>0891846aad4e869e</td>\n",
       "      <td>29.952638</td>\n",
       "      <td>30.888283</td>\n",
       "      <td>2022-02-22 15:51:15.387694</td>\n",
       "      <td>NaN</td>\n",
       "    </tr>\n",
       "    <tr>\n",
       "      <th>-MwWgqwJCVqXiZnRyYxK</th>\n",
       "      <td>157</td>\n",
       "      <td>0891846aad4e869e</td>\n",
       "      <td>29.952642</td>\n",
       "      <td>30.888282</td>\n",
       "      <td>2022-02-22 15:51:21.876488</td>\n",
       "      <td>NaN</td>\n",
       "    </tr>\n",
       "    <tr>\n",
       "      <th>...</th>\n",
       "      <td>...</td>\n",
       "      <td>...</td>\n",
       "      <td>...</td>\n",
       "      <td>...</td>\n",
       "      <td>...</td>\n",
       "      <td>...</td>\n",
       "    </tr>\n",
       "    <tr>\n",
       "      <th>-N3ab30MLr8vzHO5SEFr</th>\n",
       "      <td>157</td>\n",
       "      <td>0891846aad4e869e</td>\n",
       "      <td>30.566616</td>\n",
       "      <td>31.012179</td>\n",
       "      <td>2022-06-03 00:49:43.255626</td>\n",
       "      <td>NaN</td>\n",
       "    </tr>\n",
       "    <tr>\n",
       "      <th>-N3ab4_XRd5Oua4TjIhe</th>\n",
       "      <td>157</td>\n",
       "      <td>0891846aad4e869e</td>\n",
       "      <td>30.566256</td>\n",
       "      <td>31.012319</td>\n",
       "      <td>2022-06-03 00:49:49.666424</td>\n",
       "      <td>NaN</td>\n",
       "    </tr>\n",
       "    <tr>\n",
       "      <th>-N3ab5QXpG-qgP55DQTf</th>\n",
       "      <td>157</td>\n",
       "      <td>0891846aad4e869e</td>\n",
       "      <td>30.566256</td>\n",
       "      <td>31.012319</td>\n",
       "      <td>2022-06-03 00:49:53.122114</td>\n",
       "      <td>NaN</td>\n",
       "    </tr>\n",
       "    <tr>\n",
       "      <th>-N3ab72RE93xSqsFMpMq</th>\n",
       "      <td>157</td>\n",
       "      <td>0891846aad4e869e</td>\n",
       "      <td>30.565279</td>\n",
       "      <td>31.012417</td>\n",
       "      <td>2022-06-03 00:49:59.771898</td>\n",
       "      <td>NaN</td>\n",
       "    </tr>\n",
       "    <tr>\n",
       "      <th>meta-data</th>\n",
       "      <td>157.0</td>\n",
       "      <td>NaN</td>\n",
       "      <td>NaN</td>\n",
       "      <td>NaN</td>\n",
       "      <td>NaN</td>\n",
       "      <td>NaN</td>\n",
       "    </tr>\n",
       "  </tbody>\n",
       "</table>\n",
       "<p>1719 rows × 6 columns</p>\n",
       "</div>"
      ],
      "text/plain": [
       "                     collector_id         device_id   latitude  longitude  \\\n",
       "-MwWgmIKz8ZLI-S3HtAp          157  0891846aad4e869e  29.952633  30.888284   \n",
       "-MwWgmyb-JvddB_4D41K          157  0891846aad4e869e  29.952633  30.888284   \n",
       "-MwWgoX1YBF7jLDYPzHj          157  0891846aad4e869e  29.952638  30.888283   \n",
       "-MwWgpLvpj_9XZK1rza7          157  0891846aad4e869e  29.952638  30.888283   \n",
       "-MwWgqwJCVqXiZnRyYxK          157  0891846aad4e869e  29.952642  30.888282   \n",
       "...                           ...               ...        ...        ...   \n",
       "-N3ab30MLr8vzHO5SEFr          157  0891846aad4e869e  30.566616  31.012179   \n",
       "-N3ab4_XRd5Oua4TjIhe          157  0891846aad4e869e  30.566256  31.012319   \n",
       "-N3ab5QXpG-qgP55DQTf          157  0891846aad4e869e  30.566256  31.012319   \n",
       "-N3ab72RE93xSqsFMpMq          157  0891846aad4e869e  30.565279  31.012417   \n",
       "meta-data                   157.0               NaN        NaN        NaN   \n",
       "\n",
       "                               snapshot_datetime destination_request_id  \n",
       "-MwWgmIKz8ZLI-S3HtAp  2022-02-22 15:51:02.869005                    NaN  \n",
       "-MwWgmyb-JvddB_4D41K  2022-02-22 15:51:05.639681                    NaN  \n",
       "-MwWgoX1YBF7jLDYPzHj  2022-02-22 15:51:12.002744                    NaN  \n",
       "-MwWgpLvpj_9XZK1rza7  2022-02-22 15:51:15.387694                    NaN  \n",
       "-MwWgqwJCVqXiZnRyYxK  2022-02-22 15:51:21.876488                    NaN  \n",
       "...                                          ...                    ...  \n",
       "-N3ab30MLr8vzHO5SEFr  2022-06-03 00:49:43.255626                    NaN  \n",
       "-N3ab4_XRd5Oua4TjIhe  2022-06-03 00:49:49.666424                    NaN  \n",
       "-N3ab5QXpG-qgP55DQTf  2022-06-03 00:49:53.122114                    NaN  \n",
       "-N3ab72RE93xSqsFMpMq  2022-06-03 00:49:59.771898                    NaN  \n",
       "meta-data                                    NaN                    NaN  \n",
       "\n",
       "[1719 rows x 6 columns]"
      ]
     },
     "execution_count": 47,
     "metadata": {},
     "output_type": "execute_result"
    }
   ],
   "source": [
    "df2 = pd.read_json('tagaddod-d8ffe--MwWeqpG3yuQD7G2wcp8-export.json').T\n",
    "df2"
   ]
  },
  {
   "cell_type": "markdown",
   "id": "810e1fca",
   "metadata": {},
   "source": [
    "###### convert collector location as feature "
   ]
  },
  {
   "cell_type": "code",
   "execution_count": 48,
   "id": "89f62b29",
   "metadata": {},
   "outputs": [],
   "source": [
    "df2.reset_index(inplace = True)"
   ]
  },
  {
   "cell_type": "code",
   "execution_count": 49,
   "id": "7fa46659",
   "metadata": {},
   "outputs": [],
   "source": [
    "df2.rename(columns = {'index' : 'collector_location'} , inplace = True)"
   ]
  },
  {
   "cell_type": "code",
   "execution_count": 50,
   "id": "f4218713",
   "metadata": {
    "scrolled": false
   },
   "outputs": [
    {
     "data": {
      "text/plain": [
       "collector_location         0.000000\n",
       "collector_id               0.000000\n",
       "device_id                  0.058173\n",
       "latitude                   0.814427\n",
       "longitude                  0.814427\n",
       "snapshot_datetime          0.058173\n",
       "destination_request_id    26.934264\n",
       "dtype: float64"
      ]
     },
     "execution_count": 50,
     "metadata": {},
     "output_type": "execute_result"
    }
   ],
   "source": [
    "df2.isnull().mean()*100"
   ]
  },
  {
   "cell_type": "markdown",
   "id": "f96bd5bf",
   "metadata": {},
   "source": [
    "###### Drop destination_request_id has many missing "
   ]
  },
  {
   "cell_type": "code",
   "execution_count": 51,
   "id": "b439f379",
   "metadata": {},
   "outputs": [],
   "source": [
    "df2.drop(['destination_request_id'] , axis = 1 , inplace = True)"
   ]
  },
  {
   "cell_type": "code",
   "execution_count": 52,
   "id": "1470d624",
   "metadata": {},
   "outputs": [],
   "source": [
    "df2.drop([1718] , axis = 0 , inplace = True)"
   ]
  },
  {
   "cell_type": "code",
   "execution_count": 53,
   "id": "c7ba4f4f",
   "metadata": {},
   "outputs": [
    {
     "data": {
      "text/plain": [
       "collector_location    0.000000\n",
       "collector_id          0.000000\n",
       "device_id             0.000000\n",
       "latitude              0.756694\n",
       "longitude             0.756694\n",
       "snapshot_datetime     0.000000\n",
       "dtype: float64"
      ]
     },
     "execution_count": 53,
     "metadata": {},
     "output_type": "execute_result"
    }
   ],
   "source": [
    "df2.isnull().mean()*100"
   ]
  },
  {
   "cell_type": "markdown",
   "id": "50addd1c",
   "metadata": {},
   "source": [
    "###### convert date time from str to datetime "
   ]
  },
  {
   "cell_type": "code",
   "execution_count": 54,
   "id": "26e780e2",
   "metadata": {},
   "outputs": [],
   "source": [
    "df2['snapshot_datetime'] = pd.to_datetime(df2['snapshot_datetime'] , errors = 'coerce')"
   ]
  },
  {
   "cell_type": "code",
   "execution_count": 55,
   "id": "d4f77ceb",
   "metadata": {},
   "outputs": [
    {
     "data": {
      "text/plain": [
       "collector_location    0.000000\n",
       "collector_id          0.000000\n",
       "device_id             0.000000\n",
       "latitude              0.756694\n",
       "longitude             0.756694\n",
       "snapshot_datetime     0.000000\n",
       "dtype: float64"
      ]
     },
     "execution_count": 55,
     "metadata": {},
     "output_type": "execute_result"
    }
   ],
   "source": [
    "df2.isnull().mean()*100"
   ]
  },
  {
   "cell_type": "code",
   "execution_count": 56,
   "id": "8e65e142",
   "metadata": {},
   "outputs": [],
   "source": [
    "df2.dropna(subset = ['latitude','longitude'] , inplace = True , axis = 0)"
   ]
  },
  {
   "cell_type": "code",
   "execution_count": 57,
   "id": "f4d69cfb",
   "metadata": {},
   "outputs": [],
   "source": [
    "df2.reset_index(inplace = True , drop = True)"
   ]
  },
  {
   "cell_type": "code",
   "execution_count": 58,
   "id": "369f480f",
   "metadata": {},
   "outputs": [],
   "source": [
    "df2 = df2[col]"
   ]
  },
  {
   "cell_type": "code",
   "execution_count": 59,
   "id": "d16198ec",
   "metadata": {},
   "outputs": [
    {
     "data": {
      "text/html": [
       "<div>\n",
       "<style scoped>\n",
       "    .dataframe tbody tr th:only-of-type {\n",
       "        vertical-align: middle;\n",
       "    }\n",
       "\n",
       "    .dataframe tbody tr th {\n",
       "        vertical-align: top;\n",
       "    }\n",
       "\n",
       "    .dataframe thead th {\n",
       "        text-align: right;\n",
       "    }\n",
       "</style>\n",
       "<table border=\"1\" class=\"dataframe\">\n",
       "  <thead>\n",
       "    <tr style=\"text-align: right;\">\n",
       "      <th></th>\n",
       "      <th>collector_location</th>\n",
       "      <th>collector_id</th>\n",
       "      <th>device_id</th>\n",
       "      <th>latitude</th>\n",
       "      <th>longitude</th>\n",
       "      <th>snapshot_datetime</th>\n",
       "    </tr>\n",
       "  </thead>\n",
       "  <tbody>\n",
       "    <tr>\n",
       "      <th>1702</th>\n",
       "      <td>-N3ab4_XRd5Oua4TjIhe</td>\n",
       "      <td>157</td>\n",
       "      <td>0891846aad4e869e</td>\n",
       "      <td>30.566256</td>\n",
       "      <td>31.012319</td>\n",
       "      <td>2022-06-03 00:49:49.666424</td>\n",
       "    </tr>\n",
       "    <tr>\n",
       "      <th>1703</th>\n",
       "      <td>-N3ab5QXpG-qgP55DQTf</td>\n",
       "      <td>157</td>\n",
       "      <td>0891846aad4e869e</td>\n",
       "      <td>30.566256</td>\n",
       "      <td>31.012319</td>\n",
       "      <td>2022-06-03 00:49:53.122114</td>\n",
       "    </tr>\n",
       "    <tr>\n",
       "      <th>1704</th>\n",
       "      <td>-N3ab72RE93xSqsFMpMq</td>\n",
       "      <td>157</td>\n",
       "      <td>0891846aad4e869e</td>\n",
       "      <td>30.565279</td>\n",
       "      <td>31.012417</td>\n",
       "      <td>2022-06-03 00:49:59.771898</td>\n",
       "    </tr>\n",
       "  </tbody>\n",
       "</table>\n",
       "</div>"
      ],
      "text/plain": [
       "        collector_location collector_id         device_id   latitude  \\\n",
       "1702  -N3ab4_XRd5Oua4TjIhe          157  0891846aad4e869e  30.566256   \n",
       "1703  -N3ab5QXpG-qgP55DQTf          157  0891846aad4e869e  30.566256   \n",
       "1704  -N3ab72RE93xSqsFMpMq          157  0891846aad4e869e  30.565279   \n",
       "\n",
       "      longitude          snapshot_datetime  \n",
       "1702  31.012319 2022-06-03 00:49:49.666424  \n",
       "1703  31.012319 2022-06-03 00:49:53.122114  \n",
       "1704  31.012417 2022-06-03 00:49:59.771898  "
      ]
     },
     "execution_count": 59,
     "metadata": {},
     "output_type": "execute_result"
    }
   ],
   "source": [
    "df2.tail(3)"
   ]
  },
  {
   "cell_type": "markdown",
   "id": "f5f01704",
   "metadata": {},
   "source": [
    "# Node 4 : \n",
    "fourth json file "
   ]
  },
  {
   "cell_type": "code",
   "execution_count": 60,
   "id": "d565fee2",
   "metadata": {},
   "outputs": [
    {
     "data": {
      "text/html": [
       "<div>\n",
       "<style scoped>\n",
       "    .dataframe tbody tr th:only-of-type {\n",
       "        vertical-align: middle;\n",
       "    }\n",
       "\n",
       "    .dataframe tbody tr th {\n",
       "        vertical-align: top;\n",
       "    }\n",
       "\n",
       "    .dataframe thead th {\n",
       "        text-align: right;\n",
       "    }\n",
       "</style>\n",
       "<table border=\"1\" class=\"dataframe\">\n",
       "  <thead>\n",
       "    <tr style=\"text-align: right;\">\n",
       "      <th></th>\n",
       "      <th>collector_id</th>\n",
       "      <th>device_id</th>\n",
       "      <th>latitude</th>\n",
       "      <th>longitude</th>\n",
       "      <th>snapshot_datetime</th>\n",
       "    </tr>\n",
       "  </thead>\n",
       "  <tbody>\n",
       "    <tr>\n",
       "      <th>-N4SWCnP5uAPMk2vlgsh</th>\n",
       "      <td>257</td>\n",
       "      <td>a685f0f069042727</td>\n",
       "      <td>30.562314</td>\n",
       "      <td>31.560081</td>\n",
       "      <td>2022-06-13 16:43:17.338230</td>\n",
       "    </tr>\n",
       "    <tr>\n",
       "      <th>-N4SWDqDqUVYxPTGsEYr</th>\n",
       "      <td>257</td>\n",
       "      <td>a685f0f069042727</td>\n",
       "      <td>30.562314</td>\n",
       "      <td>31.560081</td>\n",
       "      <td>2022-06-13 16:43:21.614333</td>\n",
       "    </tr>\n",
       "    <tr>\n",
       "      <th>-N4SWFG074ZdMJm5B7h3</th>\n",
       "      <td>257</td>\n",
       "      <td>a685f0f069042727</td>\n",
       "      <td>30.562314</td>\n",
       "      <td>31.560081</td>\n",
       "      <td>2022-06-13 16:43:27.425884</td>\n",
       "    </tr>\n",
       "    <tr>\n",
       "      <th>-N4SWG6b3kT3WQxIjw_x</th>\n",
       "      <td>257</td>\n",
       "      <td>a685f0f069042727</td>\n",
       "      <td>30.562314</td>\n",
       "      <td>31.560081</td>\n",
       "      <td>2022-06-13 16:43:30.918961</td>\n",
       "    </tr>\n",
       "    <tr>\n",
       "      <th>-N4SWHi3Zq_pQl99SaVN</th>\n",
       "      <td>257</td>\n",
       "      <td>a685f0f069042727</td>\n",
       "      <td>30.562314</td>\n",
       "      <td>31.560081</td>\n",
       "      <td>2022-06-13 16:43:37.476021</td>\n",
       "    </tr>\n",
       "    <tr>\n",
       "      <th>...</th>\n",
       "      <td>...</td>\n",
       "      <td>...</td>\n",
       "      <td>...</td>\n",
       "      <td>...</td>\n",
       "      <td>...</td>\n",
       "    </tr>\n",
       "    <tr>\n",
       "      <th>-N4SsdlW6fgRvBC5U-2x</th>\n",
       "      <td>257</td>\n",
       "      <td>a685f0f069042727</td>\n",
       "      <td>30.562312</td>\n",
       "      <td>31.56008</td>\n",
       "      <td>2022-06-13 18:25:41.217370</td>\n",
       "    </tr>\n",
       "    <tr>\n",
       "      <th>-N4SsepalJNpxDsjo3xf</th>\n",
       "      <td>257</td>\n",
       "      <td>a685f0f069042727</td>\n",
       "      <td>30.562305</td>\n",
       "      <td>31.560091</td>\n",
       "      <td>2022-06-13 18:25:45.574352</td>\n",
       "    </tr>\n",
       "    <tr>\n",
       "      <th>-N4SsgNE5GU2N4_W3rL6</th>\n",
       "      <td>257</td>\n",
       "      <td>a685f0f069042727</td>\n",
       "      <td>30.562304</td>\n",
       "      <td>31.560093</td>\n",
       "      <td>2022-06-13 18:25:51.887048</td>\n",
       "    </tr>\n",
       "    <tr>\n",
       "      <th>-N4SshUlcPbVssLDwcRl</th>\n",
       "      <td>257</td>\n",
       "      <td>a685f0f069042727</td>\n",
       "      <td>30.562304</td>\n",
       "      <td>31.560093</td>\n",
       "      <td>2022-06-13 18:25:56.465310</td>\n",
       "    </tr>\n",
       "    <tr>\n",
       "      <th>meta-data</th>\n",
       "      <td>257.0</td>\n",
       "      <td>NaN</td>\n",
       "      <td>NaN</td>\n",
       "      <td>NaN</td>\n",
       "      <td>NaN</td>\n",
       "    </tr>\n",
       "  </tbody>\n",
       "</table>\n",
       "<p>84 rows × 5 columns</p>\n",
       "</div>"
      ],
      "text/plain": [
       "                     collector_id         device_id   latitude  longitude  \\\n",
       "-N4SWCnP5uAPMk2vlgsh          257  a685f0f069042727  30.562314  31.560081   \n",
       "-N4SWDqDqUVYxPTGsEYr          257  a685f0f069042727  30.562314  31.560081   \n",
       "-N4SWFG074ZdMJm5B7h3          257  a685f0f069042727  30.562314  31.560081   \n",
       "-N4SWG6b3kT3WQxIjw_x          257  a685f0f069042727  30.562314  31.560081   \n",
       "-N4SWHi3Zq_pQl99SaVN          257  a685f0f069042727  30.562314  31.560081   \n",
       "...                           ...               ...        ...        ...   \n",
       "-N4SsdlW6fgRvBC5U-2x          257  a685f0f069042727  30.562312   31.56008   \n",
       "-N4SsepalJNpxDsjo3xf          257  a685f0f069042727  30.562305  31.560091   \n",
       "-N4SsgNE5GU2N4_W3rL6          257  a685f0f069042727  30.562304  31.560093   \n",
       "-N4SshUlcPbVssLDwcRl          257  a685f0f069042727  30.562304  31.560093   \n",
       "meta-data                   257.0               NaN        NaN        NaN   \n",
       "\n",
       "                               snapshot_datetime  \n",
       "-N4SWCnP5uAPMk2vlgsh  2022-06-13 16:43:17.338230  \n",
       "-N4SWDqDqUVYxPTGsEYr  2022-06-13 16:43:21.614333  \n",
       "-N4SWFG074ZdMJm5B7h3  2022-06-13 16:43:27.425884  \n",
       "-N4SWG6b3kT3WQxIjw_x  2022-06-13 16:43:30.918961  \n",
       "-N4SWHi3Zq_pQl99SaVN  2022-06-13 16:43:37.476021  \n",
       "...                                          ...  \n",
       "-N4SsdlW6fgRvBC5U-2x  2022-06-13 18:25:41.217370  \n",
       "-N4SsepalJNpxDsjo3xf  2022-06-13 18:25:45.574352  \n",
       "-N4SsgNE5GU2N4_W3rL6  2022-06-13 18:25:51.887048  \n",
       "-N4SshUlcPbVssLDwcRl  2022-06-13 18:25:56.465310  \n",
       "meta-data                                    NaN  \n",
       "\n",
       "[84 rows x 5 columns]"
      ]
     },
     "execution_count": 60,
     "metadata": {},
     "output_type": "execute_result"
    }
   ],
   "source": [
    "df3 = pd.read_json('tagaddod-d8ffe--N4SUsENXI1OF1qf8VxT-export.json').T\n",
    "df3"
   ]
  },
  {
   "cell_type": "code",
   "execution_count": 61,
   "id": "8798d5e2",
   "metadata": {},
   "outputs": [
    {
     "name": "stdout",
     "output_type": "stream",
     "text": [
      "<class 'pandas.core.frame.DataFrame'>\n",
      "Index: 84 entries, -N4SWCnP5uAPMk2vlgsh to meta-data\n",
      "Data columns (total 5 columns):\n",
      " #   Column             Non-Null Count  Dtype \n",
      "---  ------             --------------  ----- \n",
      " 0   collector_id       84 non-null     object\n",
      " 1   device_id          83 non-null     object\n",
      " 2   latitude           83 non-null     object\n",
      " 3   longitude          83 non-null     object\n",
      " 4   snapshot_datetime  83 non-null     object\n",
      "dtypes: object(5)\n",
      "memory usage: 6.0+ KB\n"
     ]
    }
   ],
   "source": [
    "df3.info()"
   ]
  },
  {
   "cell_type": "code",
   "execution_count": 62,
   "id": "1e93c07b",
   "metadata": {},
   "outputs": [],
   "source": [
    "df3.reset_index(inplace = True)"
   ]
  },
  {
   "cell_type": "code",
   "execution_count": 63,
   "id": "70e4be43",
   "metadata": {},
   "outputs": [],
   "source": [
    "df3.rename(columns = {'index' : 'collector_location'} , inplace = True)"
   ]
  },
  {
   "cell_type": "code",
   "execution_count": 64,
   "id": "530b42d1",
   "metadata": {},
   "outputs": [],
   "source": [
    "df3.drop([83] , axis = 0 , inplace = True)"
   ]
  },
  {
   "cell_type": "code",
   "execution_count": 65,
   "id": "a1d44c22",
   "metadata": {},
   "outputs": [],
   "source": [
    "df3.reset_index(inplace = True , drop = True)"
   ]
  },
  {
   "cell_type": "code",
   "execution_count": 66,
   "id": "4c0dce90",
   "metadata": {},
   "outputs": [
    {
     "data": {
      "text/plain": [
       "collector_location    0.0\n",
       "collector_id          0.0\n",
       "device_id             0.0\n",
       "latitude              0.0\n",
       "longitude             0.0\n",
       "snapshot_datetime     0.0\n",
       "dtype: float64"
      ]
     },
     "execution_count": 66,
     "metadata": {},
     "output_type": "execute_result"
    }
   ],
   "source": [
    "df3.isnull().mean()*100"
   ]
  },
  {
   "cell_type": "code",
   "execution_count": 67,
   "id": "e1b55dde",
   "metadata": {},
   "outputs": [],
   "source": [
    "df3['snapshot_datetime'] = pd.to_datetime(df3['snapshot_datetime'] , errors = 'coerce')"
   ]
  },
  {
   "cell_type": "code",
   "execution_count": 68,
   "id": "38bb1218",
   "metadata": {},
   "outputs": [],
   "source": [
    "df3 = df3[col]"
   ]
  },
  {
   "cell_type": "code",
   "execution_count": 69,
   "id": "0a435c7f",
   "metadata": {},
   "outputs": [
    {
     "data": {
      "text/html": [
       "<div>\n",
       "<style scoped>\n",
       "    .dataframe tbody tr th:only-of-type {\n",
       "        vertical-align: middle;\n",
       "    }\n",
       "\n",
       "    .dataframe tbody tr th {\n",
       "        vertical-align: top;\n",
       "    }\n",
       "\n",
       "    .dataframe thead th {\n",
       "        text-align: right;\n",
       "    }\n",
       "</style>\n",
       "<table border=\"1\" class=\"dataframe\">\n",
       "  <thead>\n",
       "    <tr style=\"text-align: right;\">\n",
       "      <th></th>\n",
       "      <th>collector_location</th>\n",
       "      <th>collector_id</th>\n",
       "      <th>device_id</th>\n",
       "      <th>latitude</th>\n",
       "      <th>longitude</th>\n",
       "      <th>snapshot_datetime</th>\n",
       "    </tr>\n",
       "  </thead>\n",
       "  <tbody>\n",
       "    <tr>\n",
       "      <th>80</th>\n",
       "      <td>-N4SsepalJNpxDsjo3xf</td>\n",
       "      <td>257</td>\n",
       "      <td>a685f0f069042727</td>\n",
       "      <td>30.562305</td>\n",
       "      <td>31.560091</td>\n",
       "      <td>2022-06-13 18:25:45.574352</td>\n",
       "    </tr>\n",
       "    <tr>\n",
       "      <th>81</th>\n",
       "      <td>-N4SsgNE5GU2N4_W3rL6</td>\n",
       "      <td>257</td>\n",
       "      <td>a685f0f069042727</td>\n",
       "      <td>30.562304</td>\n",
       "      <td>31.560093</td>\n",
       "      <td>2022-06-13 18:25:51.887048</td>\n",
       "    </tr>\n",
       "    <tr>\n",
       "      <th>82</th>\n",
       "      <td>-N4SshUlcPbVssLDwcRl</td>\n",
       "      <td>257</td>\n",
       "      <td>a685f0f069042727</td>\n",
       "      <td>30.562304</td>\n",
       "      <td>31.560093</td>\n",
       "      <td>2022-06-13 18:25:56.465310</td>\n",
       "    </tr>\n",
       "  </tbody>\n",
       "</table>\n",
       "</div>"
      ],
      "text/plain": [
       "      collector_location collector_id         device_id   latitude  longitude  \\\n",
       "80  -N4SsepalJNpxDsjo3xf          257  a685f0f069042727  30.562305  31.560091   \n",
       "81  -N4SsgNE5GU2N4_W3rL6          257  a685f0f069042727  30.562304  31.560093   \n",
       "82  -N4SshUlcPbVssLDwcRl          257  a685f0f069042727  30.562304  31.560093   \n",
       "\n",
       "            snapshot_datetime  \n",
       "80 2022-06-13 18:25:45.574352  \n",
       "81 2022-06-13 18:25:51.887048  \n",
       "82 2022-06-13 18:25:56.465310  "
      ]
     },
     "execution_count": 69,
     "metadata": {},
     "output_type": "execute_result"
    }
   ],
   "source": [
    "df3.tail(3)"
   ]
  },
  {
   "cell_type": "markdown",
   "id": "b8275c03",
   "metadata": {},
   "source": [
    "### Know concate our four nodes and make some feature engineering "
   ]
  },
  {
   "cell_type": "code",
   "execution_count": 70,
   "id": "38b7fcce",
   "metadata": {},
   "outputs": [],
   "source": [
    "data = pd.concat([df , df1 , df2 , df3] , axis = 0,ignore_index = True)"
   ]
  },
  {
   "cell_type": "code",
   "execution_count": 71,
   "id": "119bf1f9",
   "metadata": {},
   "outputs": [
    {
     "data": {
      "text/html": [
       "<div>\n",
       "<style scoped>\n",
       "    .dataframe tbody tr th:only-of-type {\n",
       "        vertical-align: middle;\n",
       "    }\n",
       "\n",
       "    .dataframe tbody tr th {\n",
       "        vertical-align: top;\n",
       "    }\n",
       "\n",
       "    .dataframe thead th {\n",
       "        text-align: right;\n",
       "    }\n",
       "</style>\n",
       "<table border=\"1\" class=\"dataframe\">\n",
       "  <thead>\n",
       "    <tr style=\"text-align: right;\">\n",
       "      <th></th>\n",
       "      <th>collector_location</th>\n",
       "      <th>collector_id</th>\n",
       "      <th>device_id</th>\n",
       "      <th>latitude</th>\n",
       "      <th>longitude</th>\n",
       "      <th>snapshot_datetime</th>\n",
       "    </tr>\n",
       "  </thead>\n",
       "  <tbody>\n",
       "    <tr>\n",
       "      <th>0</th>\n",
       "      <td>-MseZ2fAZ1SjLMaYOXy2</td>\n",
       "      <td>51</td>\n",
       "      <td>fe175d9955fced88</td>\n",
       "      <td>30.042313</td>\n",
       "      <td>31.33642</td>\n",
       "      <td>2022-01-05 16:06:42.373120</td>\n",
       "    </tr>\n",
       "    <tr>\n",
       "      <th>1</th>\n",
       "      <td>-MseZ3tJG5FeQy7OEB6H</td>\n",
       "      <td>51</td>\n",
       "      <td>fe175d9955fced88</td>\n",
       "      <td>30.042313</td>\n",
       "      <td>31.33642</td>\n",
       "      <td>2022-01-05 16:06:47.379586</td>\n",
       "    </tr>\n",
       "    <tr>\n",
       "      <th>2</th>\n",
       "      <td>-MseZ57uwVY_hYJ_G8nF</td>\n",
       "      <td>51</td>\n",
       "      <td>fe175d9955fced88</td>\n",
       "      <td>30.042313</td>\n",
       "      <td>31.33642</td>\n",
       "      <td>2022-01-05 16:06:52.473970</td>\n",
       "    </tr>\n",
       "    <tr>\n",
       "      <th>3</th>\n",
       "      <td>-MseZ6JS8eUMGMr-6cF0</td>\n",
       "      <td>51</td>\n",
       "      <td>fe175d9955fced88</td>\n",
       "      <td>30.042313</td>\n",
       "      <td>31.33642</td>\n",
       "      <td>2022-01-05 16:06:57.308858</td>\n",
       "    </tr>\n",
       "    <tr>\n",
       "      <th>4</th>\n",
       "      <td>-MseZ7XzNXS16vXvrVYO</td>\n",
       "      <td>51</td>\n",
       "      <td>fe175d9955fced88</td>\n",
       "      <td>30.042313</td>\n",
       "      <td>31.33642</td>\n",
       "      <td>2022-01-05 16:07:02.335482</td>\n",
       "    </tr>\n",
       "    <tr>\n",
       "      <th>...</th>\n",
       "      <td>...</td>\n",
       "      <td>...</td>\n",
       "      <td>...</td>\n",
       "      <td>...</td>\n",
       "      <td>...</td>\n",
       "      <td>...</td>\n",
       "    </tr>\n",
       "    <tr>\n",
       "      <th>22115</th>\n",
       "      <td>-N4SsdHjs4Ks-F1BnzNV</td>\n",
       "      <td>257</td>\n",
       "      <td>a685f0f069042727</td>\n",
       "      <td>30.562312</td>\n",
       "      <td>31.56008</td>\n",
       "      <td>2022-06-13 18:25:39.247044</td>\n",
       "    </tr>\n",
       "    <tr>\n",
       "      <th>22116</th>\n",
       "      <td>-N4SsdlW6fgRvBC5U-2x</td>\n",
       "      <td>257</td>\n",
       "      <td>a685f0f069042727</td>\n",
       "      <td>30.562312</td>\n",
       "      <td>31.56008</td>\n",
       "      <td>2022-06-13 18:25:41.217370</td>\n",
       "    </tr>\n",
       "    <tr>\n",
       "      <th>22117</th>\n",
       "      <td>-N4SsepalJNpxDsjo3xf</td>\n",
       "      <td>257</td>\n",
       "      <td>a685f0f069042727</td>\n",
       "      <td>30.562305</td>\n",
       "      <td>31.560091</td>\n",
       "      <td>2022-06-13 18:25:45.574352</td>\n",
       "    </tr>\n",
       "    <tr>\n",
       "      <th>22118</th>\n",
       "      <td>-N4SsgNE5GU2N4_W3rL6</td>\n",
       "      <td>257</td>\n",
       "      <td>a685f0f069042727</td>\n",
       "      <td>30.562304</td>\n",
       "      <td>31.560093</td>\n",
       "      <td>2022-06-13 18:25:51.887048</td>\n",
       "    </tr>\n",
       "    <tr>\n",
       "      <th>22119</th>\n",
       "      <td>-N4SshUlcPbVssLDwcRl</td>\n",
       "      <td>257</td>\n",
       "      <td>a685f0f069042727</td>\n",
       "      <td>30.562304</td>\n",
       "      <td>31.560093</td>\n",
       "      <td>2022-06-13 18:25:56.465310</td>\n",
       "    </tr>\n",
       "  </tbody>\n",
       "</table>\n",
       "<p>22120 rows × 6 columns</p>\n",
       "</div>"
      ],
      "text/plain": [
       "         collector_location collector_id         device_id   latitude  \\\n",
       "0      -MseZ2fAZ1SjLMaYOXy2           51  fe175d9955fced88  30.042313   \n",
       "1      -MseZ3tJG5FeQy7OEB6H           51  fe175d9955fced88  30.042313   \n",
       "2      -MseZ57uwVY_hYJ_G8nF           51  fe175d9955fced88  30.042313   \n",
       "3      -MseZ6JS8eUMGMr-6cF0           51  fe175d9955fced88  30.042313   \n",
       "4      -MseZ7XzNXS16vXvrVYO           51  fe175d9955fced88  30.042313   \n",
       "...                     ...          ...               ...        ...   \n",
       "22115  -N4SsdHjs4Ks-F1BnzNV          257  a685f0f069042727  30.562312   \n",
       "22116  -N4SsdlW6fgRvBC5U-2x          257  a685f0f069042727  30.562312   \n",
       "22117  -N4SsepalJNpxDsjo3xf          257  a685f0f069042727  30.562305   \n",
       "22118  -N4SsgNE5GU2N4_W3rL6          257  a685f0f069042727  30.562304   \n",
       "22119  -N4SshUlcPbVssLDwcRl          257  a685f0f069042727  30.562304   \n",
       "\n",
       "       longitude          snapshot_datetime  \n",
       "0       31.33642 2022-01-05 16:06:42.373120  \n",
       "1       31.33642 2022-01-05 16:06:47.379586  \n",
       "2       31.33642 2022-01-05 16:06:52.473970  \n",
       "3       31.33642 2022-01-05 16:06:57.308858  \n",
       "4       31.33642 2022-01-05 16:07:02.335482  \n",
       "...          ...                        ...  \n",
       "22115   31.56008 2022-06-13 18:25:39.247044  \n",
       "22116   31.56008 2022-06-13 18:25:41.217370  \n",
       "22117  31.560091 2022-06-13 18:25:45.574352  \n",
       "22118  31.560093 2022-06-13 18:25:51.887048  \n",
       "22119  31.560093 2022-06-13 18:25:56.465310  \n",
       "\n",
       "[22120 rows x 6 columns]"
      ]
     },
     "execution_count": 71,
     "metadata": {},
     "output_type": "execute_result"
    }
   ],
   "source": [
    "data"
   ]
  },
  {
   "cell_type": "code",
   "execution_count": 72,
   "id": "c3ecbcbb",
   "metadata": {},
   "outputs": [
    {
     "data": {
      "text/plain": [
       "collector_location    0.0\n",
       "collector_id          0.0\n",
       "device_id             0.0\n",
       "latitude              0.0\n",
       "longitude             0.0\n",
       "snapshot_datetime     0.0\n",
       "dtype: float64"
      ]
     },
     "execution_count": 72,
     "metadata": {},
     "output_type": "execute_result"
    }
   ],
   "source": [
    "data.isnull().mean()*100"
   ]
  },
  {
   "cell_type": "markdown",
   "id": "e28db897",
   "metadata": {},
   "source": [
    "###### Extract some valuable info from date & time "
   ]
  },
  {
   "cell_type": "code",
   "execution_count": 73,
   "id": "dc0391b5",
   "metadata": {},
   "outputs": [],
   "source": [
    "data['Year'] = data['snapshot_datetime'].dt.year"
   ]
  },
  {
   "cell_type": "code",
   "execution_count": 74,
   "id": "f7a64a12",
   "metadata": {},
   "outputs": [],
   "source": [
    "data['Month'] = data['snapshot_datetime'].dt.month_name()"
   ]
  },
  {
   "cell_type": "code",
   "execution_count": 75,
   "id": "7d6003c3",
   "metadata": {},
   "outputs": [],
   "source": [
    "data['Day'] = data['snapshot_datetime'].dt.day_name()"
   ]
  },
  {
   "cell_type": "code",
   "execution_count": 76,
   "id": "2b30599b",
   "metadata": {},
   "outputs": [],
   "source": [
    "data['Hour'] = data['snapshot_datetime'].dt.hour"
   ]
  },
  {
   "cell_type": "markdown",
   "id": "45474e41",
   "metadata": {},
   "source": [
    "## We can get DayPeriod & Season : "
   ]
  },
  {
   "cell_type": "code",
   "execution_count": 77,
   "id": "0488e445",
   "metadata": {
    "scrolled": false
   },
   "outputs": [],
   "source": [
    "def map_hours(x):\n",
    "    if x in range(0, 13):\n",
    "        return 'morning'\n",
    "    elif x in range(13, 19):\n",
    "        return 'afternoon'\n",
    "    else:\n",
    "        return 'evening'\n",
    "    \n",
    "    \n",
    "def map_months(x):\n",
    "    if x in ['December', 'January', 'February']:\n",
    "        return 'Winter'\n",
    "    elif x in ['March', 'April', 'May']:\n",
    "        return 'Spring'\n",
    "    elif x in ['June', 'July', 'August']:\n",
    "        return 'Summer'\n",
    "    elif x in ['September', 'October', 'November']:\n",
    "        return 'Autumn'"
   ]
  },
  {
   "cell_type": "code",
   "execution_count": 78,
   "id": "f77b7813",
   "metadata": {},
   "outputs": [],
   "source": [
    "data['DayPeriod'] = data['Hour'].apply(map_hours)"
   ]
  },
  {
   "cell_type": "code",
   "execution_count": 79,
   "id": "564d9b88",
   "metadata": {},
   "outputs": [],
   "source": [
    "data['Season'] = data['Month'].apply(map_months)"
   ]
  },
  {
   "cell_type": "code",
   "execution_count": 80,
   "id": "162fc888",
   "metadata": {},
   "outputs": [
    {
     "data": {
      "text/html": [
       "<div>\n",
       "<style scoped>\n",
       "    .dataframe tbody tr th:only-of-type {\n",
       "        vertical-align: middle;\n",
       "    }\n",
       "\n",
       "    .dataframe tbody tr th {\n",
       "        vertical-align: top;\n",
       "    }\n",
       "\n",
       "    .dataframe thead th {\n",
       "        text-align: right;\n",
       "    }\n",
       "</style>\n",
       "<table border=\"1\" class=\"dataframe\">\n",
       "  <thead>\n",
       "    <tr style=\"text-align: right;\">\n",
       "      <th></th>\n",
       "      <th>collector_location</th>\n",
       "      <th>collector_id</th>\n",
       "      <th>device_id</th>\n",
       "      <th>latitude</th>\n",
       "      <th>longitude</th>\n",
       "      <th>snapshot_datetime</th>\n",
       "      <th>Year</th>\n",
       "      <th>Month</th>\n",
       "      <th>Day</th>\n",
       "      <th>Hour</th>\n",
       "      <th>DayPeriod</th>\n",
       "      <th>Season</th>\n",
       "    </tr>\n",
       "  </thead>\n",
       "  <tbody>\n",
       "    <tr>\n",
       "      <th>0</th>\n",
       "      <td>-MseZ2fAZ1SjLMaYOXy2</td>\n",
       "      <td>51</td>\n",
       "      <td>fe175d9955fced88</td>\n",
       "      <td>30.042313</td>\n",
       "      <td>31.33642</td>\n",
       "      <td>2022-01-05 16:06:42.373120</td>\n",
       "      <td>2022</td>\n",
       "      <td>January</td>\n",
       "      <td>Wednesday</td>\n",
       "      <td>16</td>\n",
       "      <td>afternoon</td>\n",
       "      <td>Winter</td>\n",
       "    </tr>\n",
       "    <tr>\n",
       "      <th>1</th>\n",
       "      <td>-MseZ3tJG5FeQy7OEB6H</td>\n",
       "      <td>51</td>\n",
       "      <td>fe175d9955fced88</td>\n",
       "      <td>30.042313</td>\n",
       "      <td>31.33642</td>\n",
       "      <td>2022-01-05 16:06:47.379586</td>\n",
       "      <td>2022</td>\n",
       "      <td>January</td>\n",
       "      <td>Wednesday</td>\n",
       "      <td>16</td>\n",
       "      <td>afternoon</td>\n",
       "      <td>Winter</td>\n",
       "    </tr>\n",
       "    <tr>\n",
       "      <th>2</th>\n",
       "      <td>-MseZ57uwVY_hYJ_G8nF</td>\n",
       "      <td>51</td>\n",
       "      <td>fe175d9955fced88</td>\n",
       "      <td>30.042313</td>\n",
       "      <td>31.33642</td>\n",
       "      <td>2022-01-05 16:06:52.473970</td>\n",
       "      <td>2022</td>\n",
       "      <td>January</td>\n",
       "      <td>Wednesday</td>\n",
       "      <td>16</td>\n",
       "      <td>afternoon</td>\n",
       "      <td>Winter</td>\n",
       "    </tr>\n",
       "    <tr>\n",
       "      <th>3</th>\n",
       "      <td>-MseZ6JS8eUMGMr-6cF0</td>\n",
       "      <td>51</td>\n",
       "      <td>fe175d9955fced88</td>\n",
       "      <td>30.042313</td>\n",
       "      <td>31.33642</td>\n",
       "      <td>2022-01-05 16:06:57.308858</td>\n",
       "      <td>2022</td>\n",
       "      <td>January</td>\n",
       "      <td>Wednesday</td>\n",
       "      <td>16</td>\n",
       "      <td>afternoon</td>\n",
       "      <td>Winter</td>\n",
       "    </tr>\n",
       "    <tr>\n",
       "      <th>4</th>\n",
       "      <td>-MseZ7XzNXS16vXvrVYO</td>\n",
       "      <td>51</td>\n",
       "      <td>fe175d9955fced88</td>\n",
       "      <td>30.042313</td>\n",
       "      <td>31.33642</td>\n",
       "      <td>2022-01-05 16:07:02.335482</td>\n",
       "      <td>2022</td>\n",
       "      <td>January</td>\n",
       "      <td>Wednesday</td>\n",
       "      <td>16</td>\n",
       "      <td>afternoon</td>\n",
       "      <td>Winter</td>\n",
       "    </tr>\n",
       "    <tr>\n",
       "      <th>...</th>\n",
       "      <td>...</td>\n",
       "      <td>...</td>\n",
       "      <td>...</td>\n",
       "      <td>...</td>\n",
       "      <td>...</td>\n",
       "      <td>...</td>\n",
       "      <td>...</td>\n",
       "      <td>...</td>\n",
       "      <td>...</td>\n",
       "      <td>...</td>\n",
       "      <td>...</td>\n",
       "      <td>...</td>\n",
       "    </tr>\n",
       "    <tr>\n",
       "      <th>22115</th>\n",
       "      <td>-N4SsdHjs4Ks-F1BnzNV</td>\n",
       "      <td>257</td>\n",
       "      <td>a685f0f069042727</td>\n",
       "      <td>30.562312</td>\n",
       "      <td>31.56008</td>\n",
       "      <td>2022-06-13 18:25:39.247044</td>\n",
       "      <td>2022</td>\n",
       "      <td>June</td>\n",
       "      <td>Monday</td>\n",
       "      <td>18</td>\n",
       "      <td>afternoon</td>\n",
       "      <td>Summer</td>\n",
       "    </tr>\n",
       "    <tr>\n",
       "      <th>22116</th>\n",
       "      <td>-N4SsdlW6fgRvBC5U-2x</td>\n",
       "      <td>257</td>\n",
       "      <td>a685f0f069042727</td>\n",
       "      <td>30.562312</td>\n",
       "      <td>31.56008</td>\n",
       "      <td>2022-06-13 18:25:41.217370</td>\n",
       "      <td>2022</td>\n",
       "      <td>June</td>\n",
       "      <td>Monday</td>\n",
       "      <td>18</td>\n",
       "      <td>afternoon</td>\n",
       "      <td>Summer</td>\n",
       "    </tr>\n",
       "    <tr>\n",
       "      <th>22117</th>\n",
       "      <td>-N4SsepalJNpxDsjo3xf</td>\n",
       "      <td>257</td>\n",
       "      <td>a685f0f069042727</td>\n",
       "      <td>30.562305</td>\n",
       "      <td>31.560091</td>\n",
       "      <td>2022-06-13 18:25:45.574352</td>\n",
       "      <td>2022</td>\n",
       "      <td>June</td>\n",
       "      <td>Monday</td>\n",
       "      <td>18</td>\n",
       "      <td>afternoon</td>\n",
       "      <td>Summer</td>\n",
       "    </tr>\n",
       "    <tr>\n",
       "      <th>22118</th>\n",
       "      <td>-N4SsgNE5GU2N4_W3rL6</td>\n",
       "      <td>257</td>\n",
       "      <td>a685f0f069042727</td>\n",
       "      <td>30.562304</td>\n",
       "      <td>31.560093</td>\n",
       "      <td>2022-06-13 18:25:51.887048</td>\n",
       "      <td>2022</td>\n",
       "      <td>June</td>\n",
       "      <td>Monday</td>\n",
       "      <td>18</td>\n",
       "      <td>afternoon</td>\n",
       "      <td>Summer</td>\n",
       "    </tr>\n",
       "    <tr>\n",
       "      <th>22119</th>\n",
       "      <td>-N4SshUlcPbVssLDwcRl</td>\n",
       "      <td>257</td>\n",
       "      <td>a685f0f069042727</td>\n",
       "      <td>30.562304</td>\n",
       "      <td>31.560093</td>\n",
       "      <td>2022-06-13 18:25:56.465310</td>\n",
       "      <td>2022</td>\n",
       "      <td>June</td>\n",
       "      <td>Monday</td>\n",
       "      <td>18</td>\n",
       "      <td>afternoon</td>\n",
       "      <td>Summer</td>\n",
       "    </tr>\n",
       "  </tbody>\n",
       "</table>\n",
       "<p>22120 rows × 12 columns</p>\n",
       "</div>"
      ],
      "text/plain": [
       "         collector_location collector_id         device_id   latitude  \\\n",
       "0      -MseZ2fAZ1SjLMaYOXy2           51  fe175d9955fced88  30.042313   \n",
       "1      -MseZ3tJG5FeQy7OEB6H           51  fe175d9955fced88  30.042313   \n",
       "2      -MseZ57uwVY_hYJ_G8nF           51  fe175d9955fced88  30.042313   \n",
       "3      -MseZ6JS8eUMGMr-6cF0           51  fe175d9955fced88  30.042313   \n",
       "4      -MseZ7XzNXS16vXvrVYO           51  fe175d9955fced88  30.042313   \n",
       "...                     ...          ...               ...        ...   \n",
       "22115  -N4SsdHjs4Ks-F1BnzNV          257  a685f0f069042727  30.562312   \n",
       "22116  -N4SsdlW6fgRvBC5U-2x          257  a685f0f069042727  30.562312   \n",
       "22117  -N4SsepalJNpxDsjo3xf          257  a685f0f069042727  30.562305   \n",
       "22118  -N4SsgNE5GU2N4_W3rL6          257  a685f0f069042727  30.562304   \n",
       "22119  -N4SshUlcPbVssLDwcRl          257  a685f0f069042727  30.562304   \n",
       "\n",
       "       longitude          snapshot_datetime  Year    Month        Day  Hour  \\\n",
       "0       31.33642 2022-01-05 16:06:42.373120  2022  January  Wednesday    16   \n",
       "1       31.33642 2022-01-05 16:06:47.379586  2022  January  Wednesday    16   \n",
       "2       31.33642 2022-01-05 16:06:52.473970  2022  January  Wednesday    16   \n",
       "3       31.33642 2022-01-05 16:06:57.308858  2022  January  Wednesday    16   \n",
       "4       31.33642 2022-01-05 16:07:02.335482  2022  January  Wednesday    16   \n",
       "...          ...                        ...   ...      ...        ...   ...   \n",
       "22115   31.56008 2022-06-13 18:25:39.247044  2022     June     Monday    18   \n",
       "22116   31.56008 2022-06-13 18:25:41.217370  2022     June     Monday    18   \n",
       "22117  31.560091 2022-06-13 18:25:45.574352  2022     June     Monday    18   \n",
       "22118  31.560093 2022-06-13 18:25:51.887048  2022     June     Monday    18   \n",
       "22119  31.560093 2022-06-13 18:25:56.465310  2022     June     Monday    18   \n",
       "\n",
       "       DayPeriod  Season  \n",
       "0      afternoon  Winter  \n",
       "1      afternoon  Winter  \n",
       "2      afternoon  Winter  \n",
       "3      afternoon  Winter  \n",
       "4      afternoon  Winter  \n",
       "...          ...     ...  \n",
       "22115  afternoon  Summer  \n",
       "22116  afternoon  Summer  \n",
       "22117  afternoon  Summer  \n",
       "22118  afternoon  Summer  \n",
       "22119  afternoon  Summer  \n",
       "\n",
       "[22120 rows x 12 columns]"
      ]
     },
     "execution_count": 80,
     "metadata": {},
     "output_type": "execute_result"
    }
   ],
   "source": [
    "data"
   ]
  },
  {
   "cell_type": "markdown",
   "id": "24e0bd71",
   "metadata": {},
   "source": [
    "## Lat & Long :"
   ]
  },
  {
   "cell_type": "code",
   "execution_count": 81,
   "id": "e1b7b9df",
   "metadata": {},
   "outputs": [],
   "source": [
    "geolocator = Nominatim(user_agent=\"Task\")"
   ]
  },
  {
   "cell_type": "code",
   "execution_count": 82,
   "id": "c7d3159b",
   "metadata": {
    "scrolled": true
   },
   "outputs": [
    {
     "data": {
      "text/plain": [
       "{'road': 'شارع الطاهره',\n",
       " 'suburb': 'طاهرة',\n",
       " 'city': 'الزقازيق',\n",
       " 'state': 'الشرقية',\n",
       " 'ISO3166-2-lvl4': 'EG-SHR',\n",
       " 'postcode': '44862',\n",
       " 'country': 'مصر',\n",
       " 'country_code': 'eg'}"
      ]
     },
     "execution_count": 82,
     "metadata": {},
     "output_type": "execute_result"
    }
   ],
   "source": [
    "geolocator.reverse('30.562304,31.560093').raw['address']"
   ]
  },
  {
   "cell_type": "code",
   "execution_count": 83,
   "id": "ddfabaef",
   "metadata": {},
   "outputs": [
    {
     "data": {
      "text/plain": [
       "{'neighbourhood': 'بهيج',\n",
       " 'village': 'قرية بهيج',\n",
       " 'state': 'الإسكندرية',\n",
       " 'ISO3166-2-lvl4': 'EG-ALX',\n",
       " 'postcode': '23719',\n",
       " 'country': 'مصر',\n",
       " 'country_code': 'eg'}"
      ]
     },
     "execution_count": 83,
     "metadata": {},
     "output_type": "execute_result"
    }
   ],
   "source": [
    "def GetAddress(r):\n",
    "    try:\n",
    "        geolocator = Nominatim(user_agent=\"Task\".format(np.random.randint(50,1000000)))\n",
    "        address = geolocator.reverse(r).raw['address']\n",
    "        return address\n",
    "    except:\n",
    "        return np.nan\n",
    "\n",
    "    \n",
    "GetAddress('30.916706,29.6046081')"
   ]
  },
  {
   "cell_type": "code",
   "execution_count": 84,
   "id": "5d9d6428",
   "metadata": {},
   "outputs": [],
   "source": [
    "data['latlong'] = data['latitude'].astype('str')+','+data['longitude'].astype('str')"
   ]
  },
  {
   "cell_type": "code",
   "execution_count": 85,
   "id": "dabb0738",
   "metadata": {},
   "outputs": [],
   "source": [
    "# take a long time to run :(\n",
    "#data['address'] = data['latlong'].apply(GetAddress)\n",
    "#data.to_csv('CleanedData.csv' , index = False)"
   ]
  },
  {
   "cell_type": "code",
   "execution_count": 86,
   "id": "6789480e",
   "metadata": {},
   "outputs": [],
   "source": [
    "data = pd.read_csv('CleanedData.csv' , encoding = 'utf-8')"
   ]
  },
  {
   "cell_type": "code",
   "execution_count": 87,
   "id": "225ebbc7",
   "metadata": {
    "scrolled": true
   },
   "outputs": [],
   "source": [
    "data.dropna(subset = 'address' , axis = 0 , inplace = True)"
   ]
  },
  {
   "cell_type": "code",
   "execution_count": 88,
   "id": "bcf44177",
   "metadata": {},
   "outputs": [],
   "source": [
    "data.reset_index(inplace = True , drop = True)"
   ]
  },
  {
   "cell_type": "markdown",
   "id": "7960ec4d",
   "metadata": {},
   "source": [
    "###### when reading our data from csv file address as string so convert to dict to deal with it "
   ]
  },
  {
   "cell_type": "code",
   "execution_count": 89,
   "id": "32cf007f",
   "metadata": {},
   "outputs": [],
   "source": [
    "data['address'] = data['address'].apply(lambda x : eval(x))"
   ]
  },
  {
   "cell_type": "code",
   "execution_count": 90,
   "id": "d08f4401",
   "metadata": {},
   "outputs": [
    {
     "data": {
      "text/plain": [
       "{'house_number': '67',\n",
       " 'road': 'شارع الشيخ طه الديناري',\n",
       " 'neighbourhood': 'منطقة 7',\n",
       " 'suburb': 'مدينة نصر',\n",
       " 'city': 'القاهرة',\n",
       " 'state': 'القاهرة',\n",
       " 'ISO3166-2-lvl4': 'EG-C',\n",
       " 'postcode': '11765',\n",
       " 'country': 'مصر',\n",
       " 'country_code': 'eg'}"
      ]
     },
     "execution_count": 90,
     "metadata": {},
     "output_type": "execute_result"
    }
   ],
   "source": [
    "data['address'].loc[0]"
   ]
  },
  {
   "cell_type": "code",
   "execution_count": 91,
   "id": "6e50ee59",
   "metadata": {},
   "outputs": [],
   "source": [
    "# needed info from address \n",
    "lst = ['house_number' , 'road' , 'town' , 'suburb' , 'state' , 'city']"
   ]
  },
  {
   "cell_type": "code",
   "execution_count": 92,
   "id": "2486d805",
   "metadata": {},
   "outputs": [
    {
     "data": {
      "text/plain": [
       "'شارع الشيخ طه الديناري'"
      ]
     },
     "execution_count": 92,
     "metadata": {},
     "output_type": "execute_result"
    }
   ],
   "source": [
    "data['address'].loc[0].get('road')"
   ]
  },
  {
   "cell_type": "code",
   "execution_count": 93,
   "id": "77a277a1",
   "metadata": {},
   "outputs": [],
   "source": [
    "data['road'] = data['address'].apply(lambda x : x.get('road'))"
   ]
  },
  {
   "cell_type": "code",
   "execution_count": 94,
   "id": "6838da1b",
   "metadata": {},
   "outputs": [],
   "source": [
    "data['state'] = data['address'].apply(lambda x : x.get('state'))"
   ]
  },
  {
   "cell_type": "code",
   "execution_count": 95,
   "id": "ffaaae17",
   "metadata": {},
   "outputs": [],
   "source": [
    "data['city'] = data['address'].apply(lambda x : x.get('city'))"
   ]
  },
  {
   "cell_type": "code",
   "execution_count": 96,
   "id": "db69ef2d",
   "metadata": {},
   "outputs": [],
   "source": [
    "data.fillna(axis = 0 , method = 'ffill' , inplace = True)"
   ]
  },
  {
   "cell_type": "code",
   "execution_count": 97,
   "id": "5252610c",
   "metadata": {},
   "outputs": [
    {
     "data": {
      "text/plain": [
       "['شارع الشيخ طه الديناري',\n",
       " 'حارة عشرى',\n",
       " 'شارع القصر العيني',\n",
       " 'شارع محمد محمود',\n",
       " 'موقف سيارات عمر مكرم',\n",
       " 'حارة الامير قدادار',\n",
       " 'شارع بستان بن قريش',\n",
       " 'شارع الفلكي',\n",
       " 'شارع منصور',\n",
       " 'شارع التحرير',\n",
       " 'شارع محمد صدقي باشا',\n",
       " 'شارع عبد السلام عارف',\n",
       " 'شارع منشيه المهراني',\n",
       " 'شارع مصطفي ابو هيف',\n",
       " 'شارع الامير قدادار',\n",
       " 'شارع طلعت حرب',\n",
       " 'شارع يوسف الجندي',\n",
       " 'شارع الدكتور عبد الشافي محمد',\n",
       " 'شارع الشيخ ريحان',\n",
       " 'شارع الخطبة',\n",
       " 'شارع ربيع جاد الله ابو شقاف',\n",
       " 'شارع 15',\n",
       " 'شارع الجمهوريه',\n",
       " 'طريق ابو المطامير, دمنهور',\n",
       " 'شارع حضانة درا الجنة',\n",
       " 'طريق القاهرة, الاسكندرية الزراعى',\n",
       " 'شارع عبد الرحمن الرافعى',\n",
       " 'شارع قنال المحمودية',\n",
       " 'شارع احمد العبانى',\n",
       " 'شارع أطلس',\n",
       " 'شارع محمد عثمان',\n",
       " 'شارع محمد انور السادات',\n",
       " 'شارع 14',\n",
       " 'شارع 30',\n",
       " 'شارع مصطفى كامل',\n",
       " 'شارع الصرف الصحى',\n",
       " 'شارع عزبة المطر',\n",
       " 'شارع سليمان عبد الجواد',\n",
       " 'شارع الفلكى للموبيليا',\n",
       " 'شارع بطل السلام',\n",
       " 'شارع مسجد الرحمه',\n",
       " 'شارع الشهاوى',\n",
       " 'شارع النصر',\n",
       " 'شارع محمد عباس',\n",
       " 'شارع الترعه',\n",
       " 'شارع 14 مايو',\n",
       " 'شارع عمر بن الخطاب',\n",
       " 'شارع على بن ابى طالب',\n",
       " 'شارع الزبير بن العوام',\n",
       " 'شارع 1',\n",
       " 'شارع بلال بن رباح',\n",
       " 'شارع 6 أكتوبر',\n",
       " 'شارع مصعب بن عمير',\n",
       " 'شارع صديقه بن اليمان',\n",
       " 'شارع الجمهورية',\n",
       " 'شارع الشهيد حلمي السيد',\n",
       " 'طريق الجيش',\n",
       " 'شارع عبد العزيز فهمي',\n",
       " 'شارع جابر عبد المعطى الغزالى',\n",
       " 'شارع شهدي باشا',\n",
       " 'شارع اسكندر ابراهيم',\n",
       " 'شارع محمد بن طاهر',\n",
       " 'شارع 768',\n",
       " 'شارع الارمن',\n",
       " 'شارع ابن سعد',\n",
       " 'شارع جمال عبد الناصر',\n",
       " 'شارع ميدان الغبيط',\n",
       " 'شارع قائد اسراب البحار',\n",
       " 'شارع محمد عوض جبريل',\n",
       " 'شارع صفيه زغلول',\n",
       " 'شارع الاسكندر الاكبر',\n",
       " 'شارع الغرفه التجاريه',\n",
       " 'شارع ابن بسام',\n",
       " 'شارع ابو اليسر',\n",
       " 'امتداد شارع امين فكري',\n",
       " 'شارع الاردن',\n",
       " 'شارع تاج الرؤساء',\n",
       " 'شارع المنصوره',\n",
       " 'شارع صالح باشا',\n",
       " 'شارع السنترال',\n",
       " 'شارع الشونه',\n",
       " 'شارع المصانع',\n",
       " 'الطريق الدائري',\n",
       " 'امتداد شارع ابى بكر الصديق',\n",
       " 'شارع خاتم المرسلين',\n",
       " 'شارع الشهيد محمود الابيض',\n",
       " 'شارع القدس',\n",
       " 'شارع 804',\n",
       " 'شارع داود سليمان',\n",
       " 'شارع مسجد السلام',\n",
       " 'شارع الزهور',\n",
       " 'شارع عبد السلام',\n",
       " 'شارع ابو عرب',\n",
       " 'شارع ابن شاكر',\n",
       " 'شارع فضالي',\n",
       " 'شارع محمد صالح حرب',\n",
       " 'شارع اسنا',\n",
       " 'شارع اللواء حسن كامل محمد',\n",
       " 'شارع ابن مصلح',\n",
       " 'شارع ميناء اغادير',\n",
       " 'شارع ابن النقيب',\n",
       " 'شارع 2',\n",
       " 'شارع السباعى',\n",
       " 'شارع الدكتور الشهاوى',\n",
       " 'شارع ملك حفنى قبلى',\n",
       " 'شارع الصحابة',\n",
       " 'طريق القاهرة, الاسكندرية الصحراوي الجانبي',\n",
       " 'شارع صلاح الدين',\n",
       " 'شارع الإمام الاكبر عبد الحليم محمود',\n",
       " 'شارع مسجد النور',\n",
       " 'شارع محمد ابو الفتوح حساب',\n",
       " 'شارع ابن الخطاب',\n",
       " 'كوبرى جندى شهيد أسامة محمد عبد الجواد',\n",
       " 'شارع سيدى الخباشى',\n",
       " 'طريق الحريه',\n",
       " 'شارع امين فكري',\n",
       " 'شارع دينوقراط',\n",
       " 'شارع مصطفى محمد اسماعيل',\n",
       " 'شارع الرائد حسن على ابراهيم',\n",
       " 'شارع الشهيد عدنان مدني',\n",
       " 'شارع احمد شوقى',\n",
       " 'شارع الفريق اول اسماعيل عزت',\n",
       " 'شارع ابراهيم شريف',\n",
       " 'شارع الفتح',\n",
       " 'شارع قرية مبارك الاوليمبيه',\n",
       " 'شارع مساكن ضباط الشرطه',\n",
       " 'شارع مسجد مصطفى كامل',\n",
       " 'شارع سوريا',\n",
       " 'شارع مدرسه الراهبات',\n",
       " 'شارع 6',\n",
       " 'شارع 8',\n",
       " 'شارع 3',\n",
       " 'شارع الصاغ محمد عبد السلام',\n",
       " 'شارع نعمه الله',\n",
       " 'شارع المنتزه',\n",
       " 'شارع مسجد الرقيب',\n",
       " 'طريق مطار برج العرب, الساحل الشمالي',\n",
       " 'شارع المقاولون العرب',\n",
       " 'شارع سعد بن معاذ',\n",
       " 'شارع السلام',\n",
       " 'شارع الموحدين',\n",
       " 'شارع 16',\n",
       " 'شارع 4',\n",
       " 'شارع مسجد ابن تيميه',\n",
       " 'حارة الاعتدال',\n",
       " 'شارع فخري حسن',\n",
       " 'شارع الدكتور حسن فضالي',\n",
       " 'شارع الشهيد صلاح مصطفى',\n",
       " 'شارع فوزي فهمي جندي',\n",
       " 'شارع اسماعيل مهنا',\n",
       " 'شارع ابو الفدا',\n",
       " 'شارع مسجد العطارين',\n",
       " 'شارع الجوهرى',\n",
       " 'شارع ابن خلدون',\n",
       " 'شارع فيكتوريا باسلي',\n",
       " 'شارع الوردي',\n",
       " 'شارع ابن الصائغ',\n",
       " 'شارع قصر رأس التين',\n",
       " 'شارع مخزن الخشب',\n",
       " 'طريق محور مطار النزهه',\n",
       " 'كوبرى مقدم شهيد شريف محمد عمر',\n",
       " 'شارع 12',\n",
       " 'شارع التلمسانى',\n",
       " 'شارع 252',\n",
       " 'شارع زاخر',\n",
       " 'طريق القاهرة, الاسكندرية الصحراوي',\n",
       " 'ميدان الابراهيميه',\n",
       " 'شارع على ابراهيم',\n",
       " 'شارع احمد فاروق على عزت',\n",
       " 'شارع الفيروز',\n",
       " 'شارع الياقوت',\n",
       " 'شارع الزبرجد',\n",
       " 'شارع الشهيد جلال الدين الدسوقي',\n",
       " 'شارع ثقيف',\n",
       " 'شارع قنال المحمودية البحرى',\n",
       " 'شارع ابن ملاعب',\n",
       " 'شارع مسجد العلم و الايمان',\n",
       " 'شارع الشهيد على صالح',\n",
       " 'شارع عبد العزيز ابو غنيم',\n",
       " 'شارع الشهيد محمد شاكر',\n",
       " 'شارع ابن المعز',\n",
       " 'شارع مركز الحداد الطبى',\n",
       " 'شارع احمد محمد حسنين',\n",
       " 'شارع دمشق',\n",
       " 'شارع الشيخ عليش',\n",
       " 'شارع رسلان',\n",
       " 'حارة الدرديرى',\n",
       " 'شارع سيدى المتولي',\n",
       " 'شارع صلاح سالم',\n",
       " 'شارع اللواء عبد المنصف محمود',\n",
       " 'شارع صادق عماره',\n",
       " 'شارع حلب',\n",
       " 'شارع الشيخ على يوسف',\n",
       " 'شارع بيبرس',\n",
       " 'شارع الوسطى',\n",
       " 'شارع البازجى',\n",
       " 'شارع الامام مالك',\n",
       " 'شارع مدين',\n",
       " 'شارع شعراوى',\n",
       " 'شارع متفرع من شارع شعراوى',\n",
       " 'شارع هدي',\n",
       " 'شارع الاقبال',\n",
       " 'شارع احمد ذو الفقار',\n",
       " 'شارع عبد الستار منصور',\n",
       " 'شارع محمد نجيب',\n",
       " 'شارع البكباشى محمود العيسوي',\n",
       " 'شارع مسجد سيدى بشر',\n",
       " 'شارع سيف',\n",
       " 'الطريق الساحلى الدولى',\n",
       " 'طريق برج العرب, العامريه',\n",
       " 'طريق العامريه الصحراوى',\n",
       " 'طريق محمد حسنى مبارك',\n",
       " 'شارع مصرف شرشرة',\n",
       " 'شارع الغبيط',\n",
       " 'طريق برج العرب, العامريه الجانبي',\n",
       " 'شارع طليبه',\n",
       " 'طريق القبارى السريع',\n",
       " 'شارع سور الموقف الجديد',\n",
       " 'شارع ابراهيم الالفى',\n",
       " 'شارع عبد الحميد الديب باشا',\n",
       " 'شارع دكتور على مصطفى مشرفه',\n",
       " 'شارع عمر لطفي',\n",
       " 'شارع شامبليون',\n",
       " 'شارع حسين حساب',\n",
       " 'شارع عبد الحميد بدوى',\n",
       " 'شارع اللواء محمد فوزي معاذ',\n",
       " 'شارع المقدم مدحت المليجى',\n",
       " 'شارع زكي بدوي محمد',\n",
       " 'شارع مسجد الهدايه',\n",
       " 'شارع الفريق اسماعيل سرهنك',\n",
       " 'شارع قنواتى',\n",
       " 'حارة الجامع',\n",
       " 'شارع تاج المعالى',\n",
       " 'شارع على بن زين العابدين',\n",
       " 'شارع خليل حماده',\n",
       " 'شارع جلال حماد',\n",
       " 'شارع دكتور محمود سليم',\n",
       " 'كوبرى ميامى',\n",
       " 'شارع امين خيرت الغندور',\n",
       " 'شارع مسجد الرياض',\n",
       " 'شارع اليازيدى',\n",
       " 'شارع ورثه امين بدوى',\n",
       " 'شارع سعيد عبد الرشيد محمد',\n",
       " 'شارع عبد المحسن السطوحى',\n",
       " 'شارع يحيي زنقير',\n",
       " 'طريق مدخل النهضه العمومى',\n",
       " 'شارع 38',\n",
       " 'شارع متفرع من شارع قنال المحمودية',\n",
       " 'شارع غرب الدلتا',\n",
       " 'كوبرى جندى شهيد مصطفى احمد رشاد سالم',\n",
       " 'شارع عبد المجيد',\n",
       " 'شارع عبد الفتاح الطويل',\n",
       " 'شارع مسجد القصبجى',\n",
       " 'شارع نبيل الوقاد',\n",
       " 'شارع كمال الدين صلاح',\n",
       " 'شارع الشهيد جواد حسنى',\n",
       " 'شارع دكتور اسماعيل الحبروك',\n",
       " 'شارع ابراهيم العبانى',\n",
       " 'نفق جليم',\n",
       " 'شارع خالد بن الوليد',\n",
       " 'شارع 17',\n",
       " 'شارع الشهيد وليد صلاح الدين شطا',\n",
       " '포은대로',\n",
       " 'محور التعمير',\n",
       " 'شارع الملازم بسيونى',\n",
       " 'شارع متفرع من شارع جمال عبد الناصر',\n",
       " 'ميدان المندره',\n",
       " 'شارع الطاحونه',\n",
       " 'شارع الحاج سعد',\n",
       " 'شارع ملك حفنى بحرى',\n",
       " 'شارع 18',\n",
       " 'شارع السيد محمد كريم',\n",
       " 'شارع الجمرك القديم',\n",
       " 'شارع مصطفى باشا العربى',\n",
       " 'شارع زاويه جراد',\n",
       " 'شارع العياني',\n",
       " 'شارع مسجد طاهر بك',\n",
       " 'طريق البتروكيماويات',\n",
       " 'طريق قناه السويس',\n",
       " 'كوبرى القبارى السريع',\n",
       " 'كوبرى محرم بك',\n",
       " 'شارع السكة الحديد',\n",
       " 'شارع ابن كامل',\n",
       " 'شارع ابن نافع',\n",
       " 'كوبرى عميد شهيد ماجد احمد كمال شاكر',\n",
       " 'كوبرى 14 مايو',\n",
       " 'شارع مصنع الجمهوريه',\n",
       " 'شارع ابو بكر الصديق',\n",
       " 'شارع دكتور محمد سيد طنطاوى',\n",
       " 'شارع المشير على محمود فهمي',\n",
       " 'شارع يحيي المشد',\n",
       " 'حارة ام سليم المجاهده',\n",
       " 'شارع احمد قمحه',\n",
       " 'شارع افلاطون',\n",
       " 'شارع المناره',\n",
       " 'طريق خورشيد, العوائد',\n",
       " 'شارع سور البحريه',\n",
       " 'شارع السيوف',\n",
       " 'شارع 7',\n",
       " 'شارع اديب',\n",
       " 'شارع وديع باشور',\n",
       " 'شارع امين حسونه',\n",
       " 'شارع الضرائب',\n",
       " 'شارع مسجد نور الاسلام',\n",
       " 'شارع خلف الشيراتون',\n",
       " 'شارع الدكتور النبوى المهندس',\n",
       " 'شارع الشيراتون',\n",
       " 'شارع مسجد المندره',\n",
       " 'شارع موريتنيا',\n",
       " 'شارع محمد حسنين هيكل',\n",
       " 'شارع 210',\n",
       " 'شارع البستان',\n",
       " 'شارع الصاغ صلاح الدين شعبان',\n",
       " 'شارع القاسمى',\n",
       " 'شارع مسجد عثمان بن عفان',\n",
       " 'شارع 5',\n",
       " 'شارع فيكتور ايمانويل',\n",
       " 'شارع مسجد حاتم',\n",
       " 'شارع توت عنخ امون',\n",
       " 'شارع الشهيد طيار محمود شاكر',\n",
       " 'شارع دكتور اسماعيل حلمى',\n",
       " 'شارع اسماعيل سرى',\n",
       " 'شارع عماره كفر الدوار',\n",
       " 'شارع حسن علام',\n",
       " 'شارع مسجد الناصر',\n",
       " 'شارع البرت الاول',\n",
       " 'شارع قيس',\n",
       " 'شارع عبد المنعم على رضوان',\n",
       " 'شارع 22',\n",
       " 'شارع المشير احمد اسماعيل',\n",
       " 'حارة سبله',\n",
       " 'شارع الشوربجي',\n",
       " 'شارع اسماعيل صبرى',\n",
       " 'شارع المقدم حسن الشيخ',\n",
       " 'شارع اديب بك اسحاق',\n",
       " 'شارع محمد طلعت نعمان',\n",
       " 'شارع محمود شنن بك',\n",
       " 'شارع حسنى حماد',\n",
       " 'شارع محمد حسن الشجاعي',\n",
       " 'شارع احمد سليمان الشيخ',\n",
       " 'شارع كوم الدكه',\n",
       " 'نفق الشاطبى',\n",
       " 'شارع عبد الرحمن شكرى',\n",
       " 'شارع رشدى',\n",
       " 'شارع عبد الحميد العبادى',\n",
       " 'شارع ابو قير',\n",
       " 'شارع عمر بن العاص',\n",
       " 'شارع مسجد الرحمن',\n",
       " 'طريق مصرف غرب النوباريه',\n",
       " 'شارع فيكتور ايمانويل الثالث',\n",
       " 'شارع مصطفى النجار',\n",
       " 'شارع النخيل',\n",
       " 'شارع القاهرة',\n",
       " 'شارع ام المؤمنين',\n",
       " 'شارع الشهيد النقيب احمد سعد الديهى',\n",
       " 'شارع الشهيد عباس سليمان الاعصر',\n",
       " 'شارع الصحه',\n",
       " 'شارع دكتور صالح حمدى',\n",
       " 'شارع سعيد البندارى',\n",
       " 'شارع عادل قنصوه',\n",
       " 'شارع زكريا احمد',\n",
       " 'شارع الشهيد عوض حجازى',\n",
       " 'شارع على هيبه',\n",
       " 'شارع على عبادى باشا',\n",
       " 'شارع محمد باشا صدقى',\n",
       " 'شارع الكازينو',\n",
       " 'طريق ابو المطامير',\n",
       " 'شارع الشيخ الشجاع',\n",
       " 'شارع عزبة الرحمه',\n",
       " 'شارع مصانع عزه',\n",
       " 'شارع الاعشى',\n",
       " 'شارع كليوباترا',\n",
       " 'شارع محمد بهاء الدين غاتورى',\n",
       " 'شارع يوسف منصور',\n",
       " 'طريق حوش عيسي, الدلنجات',\n",
       " 'شارع بورسعيد',\n",
       " 'شارع محمد عبد العزيز فكرى',\n",
       " 'شارع 10',\n",
       " 'شارع زغمور',\n",
       " 'شارع شادى عبد السلام',\n",
       " 'شارع فاروق عبد الوهاب',\n",
       " 'شارع 1003',\n",
       " 'شارع محمد جلال حماد',\n",
       " 'شارع عزيز انطوان',\n",
       " 'شارع مصطفى نظيف',\n",
       " 'شارع ياقوت الحموي',\n",
       " 'شارع عبد الله بن مبارك',\n",
       " 'شارع محيي الدين',\n",
       " 'كوبري الساعه',\n",
       " 'شارع جميله بوحيرد',\n",
       " 'شارع الايمان',\n",
       " 'شارع مشعل',\n",
       " 'شارع البنزينه',\n",
       " 'شارع التوحيد',\n",
       " 'شارع 11',\n",
       " 'شارع الزرقانى',\n",
       " 'شارع رشيد',\n",
       " 'ميدان سيوف',\n",
       " 'شارع عبد الله عزت',\n",
       " 'كوبرى رائد شهيد عبد السلام محمد السيد',\n",
       " 'شارع نصر الاسلام',\n",
       " 'شارع الخواص',\n",
       " 'شارع الاسماعيلية',\n",
       " 'شارع القنطره',\n",
       " 'شارع محمود سلامه',\n",
       " 'شارع جرنفيل',\n",
       " 'شارع محرم بيك',\n",
       " 'شارع شهيب',\n",
       " 'شارع الحسينى بن راشد',\n",
       " 'شارع الحسينى',\n",
       " 'شارع عمر مكرم',\n",
       " 'شارع ابن ياسر',\n",
       " 'شارع ابن يونس',\n",
       " 'شارع عرفان باشا',\n",
       " 'شارع محسن باشا',\n",
       " 'شارع الخليفه',\n",
       " 'شارع محمود مظهر',\n",
       " 'كوبرى رائد شهيد محمد عبد الرحيم القلاوى',\n",
       " 'شارع ناظر الخليج',\n",
       " 'شارع مدرسه التحرير',\n",
       " 'شارع البساتين',\n",
       " 'شارع المصرف الميرى',\n",
       " 'شارع مسجد الايمان',\n",
       " 'شارع حرم السكة الحديد',\n",
       " 'شارع محمد ابراهيم سليم',\n",
       " 'شارع دجله',\n",
       " 'شارع الكابتن عبد القادر كوره',\n",
       " 'شارع قلعه قايتباى',\n",
       " 'ميدان قيتباى',\n",
       " 'شارع بيرم التونسى',\n",
       " 'شارع ابى حنيفه',\n",
       " 'شارع السياله',\n",
       " 'شارع خطاب',\n",
       " 'شارع القاضي الجليل',\n",
       " 'شارع سيدى ياقوت',\n",
       " 'شارع الزركشى',\n",
       " 'شارع الاسكندرية',\n",
       " 'الطريق الجديد',\n",
       " 'شارع منشية خميس',\n",
       " 'طريق مصرف ثروت',\n",
       " 'شارع عبد المنعم رياض',\n",
       " 'شارع عمرو بن العاص',\n",
       " 'شارع رمضان عياد',\n",
       " 'شارع محمد احمد شبل',\n",
       " 'شارع الشيخ حامد',\n",
       " 'شارع عبد الله قريطم',\n",
       " 'شارع منصور جاد قريطم',\n",
       " 'شارع الاندلس',\n",
       " 'شارع عاشور 8',\n",
       " 'شارع شهاب عبيد',\n",
       " 'شارع رشاد حميد',\n",
       " 'شارع ناصر',\n",
       " 'شارع جعفر بن ابى طالب',\n",
       " 'شارع امين جمعه',\n",
       " 'شارع مساكن الارشاد الزراعى',\n",
       " 'شارع نقابه المعلمين',\n",
       " 'شارع عصفور الجنه',\n",
       " 'شارع ابو سعيد',\n",
       " 'طريق الاسكندرية, مرسى مطروح',\n",
       " 'شارع الرخام',\n",
       " 'شارع جلاديوس',\n",
       " 'الطريق الساحلى الدولى الجديد',\n",
       " 'شارع بحرى السكه الحديد',\n",
       " 'شارع 25',\n",
       " 'شارع ملك حفني',\n",
       " 'شارع شاطئ السلام 17',\n",
       " 'شارع الحاج ابو زيد عبد المولى',\n",
       " 'شارع الطفوله السعيده',\n",
       " 'شارع القاضي',\n",
       " 'شارع ترعه المحمودية',\n",
       " 'كوبرى لواء شهيد محمد كامل عبد الستار',\n",
       " 'كوبرى جندى شهيد محمد عبد اللطيف اسماعيل',\n",
       " 'شارع نورال',\n",
       " 'شارع مسجد عمر بن عبد العزيز',\n",
       " 'شارع الهدايه',\n",
       " 'شارع مدرسه القدس',\n",
       " 'شارع القاسم',\n",
       " 'شارع الملك',\n",
       " 'شارع 9',\n",
       " 'شارع عباد الرحمن',\n",
       " 'شارع محمود جمعه',\n",
       " 'شارع الشهيد مصطفى شعبان',\n",
       " 'شارع عمر بن الخطاب 2',\n",
       " 'شارع الشركه العربية',\n",
       " 'شارع احمد ابو سليمان',\n",
       " 'شارع الخليفه عمر بن الخطاب',\n",
       " 'شارع الهدي',\n",
       " 'شارع المدينه المنورة 1',\n",
       " 'شارع مسجد المدينه المنورة 1',\n",
       " 'شارع ذكى رجب',\n",
       " 'شارع مدرسه العقاد',\n",
       " 'شارع الصفا',\n",
       " 'ميدان عزبة سعد',\n",
       " 'شارع مسجد البرنس ابراهيم',\n",
       " 'شارع الشنوانى',\n",
       " 'شارع قناة المحمودية',\n",
       " 'شارع عمر بن ابى ربيعه',\n",
       " 'شارع سعيد اللبان',\n",
       " 'شارع العزيز المنان',\n",
       " 'كوبرى جندى شهيد محمد صبحى عبيد الفران',\n",
       " 'شارع الشهيد صبرى عثمان',\n",
       " 'شارع بطل الاسلام',\n",
       " 'شارع فيلا زكريا',\n",
       " 'شارع مسجد التوحيد',\n",
       " 'شارع نجع العربجي',\n",
       " '58',\n",
       " 'شارع ترعه البرنس',\n",
       " 'شارع دار الوفاء',\n",
       " 'شارع على دراج',\n",
       " 'شارع فتح الله',\n",
       " 'شارع مسجد عمر بن الخطاب',\n",
       " 'شارع عبد المحسن حسين',\n",
       " 'شارع محمد نبيل حمدى',\n",
       " 'شارع الموظفين',\n",
       " 'شارع الاتحاد',\n",
       " 'شارع سيف النصر',\n",
       " 'طريق مطار برج العرب, الساحل الشمالى الجانبي',\n",
       " 'شارع الرملى',\n",
       " 'شارع الجيش',\n",
       " 'شارع صالون السلام',\n",
       " 'شارع ابو سرحه',\n",
       " 'شارع مسجد العلم والايمان',\n",
       " 'شارع مصرف العزبة',\n",
       " 'طريق عزبة اسكوت',\n",
       " 'شارع ناضورى باشا',\n",
       " 'شارع الخضرى',\n",
       " 'شارع حسن توفيق سعد',\n",
       " 'شارع قاسم امين',\n",
       " 'شارع البستانى',\n",
       " 'شارع محمد محمود العقاد',\n",
       " 'شارع الشهيد محمد عبده',\n",
       " 'طريق برج العرب',\n",
       " 'شارع 26',\n",
       " 'شارع 23',\n",
       " 'شارع البيطاش',\n",
       " 'شارع المكس',\n",
       " 'شارع 13',\n",
       " 'شارع 104',\n",
       " 'شارع 106',\n",
       " 'طريق المستقبل',\n",
       " 'طريق شبرا, بنها الحر',\n",
       " 'شارع السكه الحديد',\n",
       " 'شارع عبد الحليم حبيب',\n",
       " 'شارع عزبة الشقرى',\n",
       " 'شارع سلامه الشقرى',\n",
       " 'شارع ترعه الشرقاويه الغربى',\n",
       " 'حارة ابو غانم',\n",
       " 'شارع سيدى سعيد',\n",
       " 'حارة المدرسة الاوليه',\n",
       " 'شارع البورصه',\n",
       " 'شارع حسين رشدى',\n",
       " 'شارع الحضرى',\n",
       " 'شارع المنيره',\n",
       " 'حارة قنديل',\n",
       " 'حارة كاميليا حبيب',\n",
       " 'شارع يحيي عبد المنعم',\n",
       " 'شارع وابور الاناره',\n",
       " 'شارع وابور النور',\n",
       " 'شارع الشيخ بركات',\n",
       " 'طريق خلوه بدوى, الشوبك',\n",
       " 'شارع سيد نصر الله',\n",
       " 'شارع متفرع من شارع سيد نصر',\n",
       " 'شارع احمد سالم حبيب',\n",
       " 'طريق مسطرد, بلبيس',\n",
       " 'شارع صلاح عبد الصبور',\n",
       " 'شارع الشهيد إبراهيم عبد التواب',\n",
       " 'المحور المركزى الجانبى',\n",
       " 'شارع عبد السلام أمين',\n",
       " 'طريق التحرير',\n",
       " 'المحور المركزى',\n",
       " 'شارع سنتر رباح',\n",
       " 'شارع معهد الفنون التطبيقية',\n",
       " 'شارع الشهداء',\n",
       " 'شارع بنى النجار',\n",
       " 'شارع المعهد',\n",
       " 'شارع 29',\n",
       " 'محور 26 يوليو الجانبى',\n",
       " 'محور 26 يوليو',\n",
       " 'شارع النرجس',\n",
       " 'شارع الريحان',\n",
       " 'شارع سامح جادو',\n",
       " 'طريق المدينة التعليمية',\n",
       " 'شارع العبور',\n",
       " 'شارع النزهة',\n",
       " 'الطريق الدائري الإقليمي',\n",
       " 'شارع عاطف السادات',\n",
       " 'شارع مساكن الاستاد المتوسطه',\n",
       " 'شارع دكتور فؤاد سيف النصر',\n",
       " 'شارع الجلاء البحرى',\n",
       " 'شارع رمزى فهمي',\n",
       " 'كوبرى شبين الكوم العلوي',\n",
       " 'شارع البحر',\n",
       " 'شارع عبد العزيز بك حبيب',\n",
       " 'حارة سيدى فايد',\n",
       " 'شارع محمد فريد البحرى',\n",
       " 'كوبرى مبارك',\n",
       " 'شارع 23 يوليو',\n",
       " '04',\n",
       " 'شارع الطاهره']"
      ]
     },
     "execution_count": 97,
     "metadata": {},
     "output_type": "execute_result"
    }
   ],
   "source": [
    "data['road'].unique().tolist()"
   ]
  },
  {
   "cell_type": "code",
   "execution_count": 98,
   "id": "ce030205",
   "metadata": {},
   "outputs": [],
   "source": [
    "# convert some wrong values to nan\n",
    "data['road'].loc[data[data['road'] == '포은대로'].index] = np.nan"
   ]
  },
  {
   "cell_type": "code",
   "execution_count": 99,
   "id": "84c154c5",
   "metadata": {
    "scrolled": true
   },
   "outputs": [
    {
     "data": {
      "text/plain": [
       "array(['القاهرة', 'أسيوط', 'الإسكندرية', 'دمنهور', '용인시',\n",
       "       'مدينة السادس من أكتوبر', 'شبرا الخيمة', 'مدينة الشيخ زايد',\n",
       "       'شبين الكوم', 'الزقازيق'], dtype=object)"
      ]
     },
     "execution_count": 99,
     "metadata": {},
     "output_type": "execute_result"
    }
   ],
   "source": [
    "data['city'].unique()"
   ]
  },
  {
   "cell_type": "code",
   "execution_count": 100,
   "id": "dfc21b5f",
   "metadata": {},
   "outputs": [],
   "source": [
    "data['city'].loc[data[data['city'] == '용인시'].index] = np.nan"
   ]
  },
  {
   "cell_type": "code",
   "execution_count": 101,
   "id": "b45696ec",
   "metadata": {},
   "outputs": [
    {
     "data": {
      "text/plain": [
       "array(['القاهرة', 'أسيوط', 'البحيرة', 'الإسكندرية', 'مطروح', 'الجيزة',\n",
       "       'القليوبية', 'المنوفية', 'الشرقية'], dtype=object)"
      ]
     },
     "execution_count": 101,
     "metadata": {},
     "output_type": "execute_result"
    }
   ],
   "source": [
    "data['state'].unique()"
   ]
  },
  {
   "cell_type": "code",
   "execution_count": 102,
   "id": "006d8405",
   "metadata": {},
   "outputs": [
    {
     "data": {
      "text/plain": [
       "collector_location     0\n",
       "collector_id           0\n",
       "device_id              0\n",
       "latitude               0\n",
       "longitude              0\n",
       "snapshot_datetime      0\n",
       "Year                   0\n",
       "Month                  0\n",
       "Day                    0\n",
       "Hour                   0\n",
       "DayPeriod              0\n",
       "Season                 0\n",
       "latlong                0\n",
       "address                0\n",
       "road                  54\n",
       "state                  0\n",
       "city                  97\n",
       "dtype: int64"
      ]
     },
     "execution_count": 102,
     "metadata": {},
     "output_type": "execute_result"
    }
   ],
   "source": [
    "data.isnull().sum()"
   ]
  },
  {
   "cell_type": "code",
   "execution_count": 103,
   "id": "0c4779b6",
   "metadata": {},
   "outputs": [],
   "source": [
    "data.fillna(method = 'ffill' , inplace = True , axis = 0)"
   ]
  },
  {
   "cell_type": "code",
   "execution_count": 104,
   "id": "5e03e994",
   "metadata": {},
   "outputs": [],
   "source": [
    "data.drop(['address' , 'latlong'] , inplace = True , axis = 1)"
   ]
  },
  {
   "cell_type": "code",
   "execution_count": 105,
   "id": "9781b03e",
   "metadata": {},
   "outputs": [],
   "source": [
    "import googletrans\n",
    "from googletrans import *"
   ]
  },
  {
   "cell_type": "markdown",
   "id": "41fb1102",
   "metadata": {},
   "source": [
    "###### finally translate into English\n",
    "* from 3 feature we get unique values and translate it & save it in dictionary to map it on whole data  \n",
    "* translator take a long time for translate and has limit number of words to translate "
   ]
  },
  {
   "cell_type": "code",
   "execution_count": 119,
   "id": "20475013",
   "metadata": {},
   "outputs": [],
   "source": [
    "translator = googletrans.Translator()"
   ]
  },
  {
   "cell_type": "code",
   "execution_count": 109,
   "id": "7c10454a",
   "metadata": {},
   "outputs": [],
   "source": [
    "road_trans = {i : translator.translate(i).text for i in data['road'].unique()[:200]}"
   ]
  },
  {
   "cell_type": "code",
   "execution_count": 110,
   "id": "6e4d5a2c",
   "metadata": {
    "scrolled": true
   },
   "outputs": [],
   "source": [
    "di2 = {i : translator.translate(i).text for i in data['road'].unique()[200:400]}"
   ]
  },
  {
   "cell_type": "code",
   "execution_count": 112,
   "id": "568a78ec",
   "metadata": {
    "scrolled": true
   },
   "outputs": [],
   "source": [
    "di3 = {i : translator.translate(i).text for i in data['road'].unique()[400:]}"
   ]
  },
  {
   "cell_type": "code",
   "execution_count": 113,
   "id": "fb0e9785",
   "metadata": {
    "scrolled": true
   },
   "outputs": [],
   "source": [
    "road_trans.update(di2)"
   ]
  },
  {
   "cell_type": "code",
   "execution_count": 114,
   "id": "6a5544fa",
   "metadata": {},
   "outputs": [],
   "source": [
    "road_trans.update(di3)"
   ]
  },
  {
   "cell_type": "code",
   "execution_count": 115,
   "id": "9ce25c10",
   "metadata": {},
   "outputs": [],
   "source": [
    "data['road'] = data['road'].map(road_trans)"
   ]
  },
  {
   "cell_type": "code",
   "execution_count": 116,
   "id": "88e550ec",
   "metadata": {},
   "outputs": [],
   "source": [
    "city_trans = {i : translator.translate(i).text for i in data['city'].unique()}"
   ]
  },
  {
   "cell_type": "code",
   "execution_count": 117,
   "id": "ddad0135",
   "metadata": {},
   "outputs": [],
   "source": [
    "data['city'] = data['city'].map(city_trans)"
   ]
  },
  {
   "cell_type": "code",
   "execution_count": 120,
   "id": "23b934db",
   "metadata": {},
   "outputs": [],
   "source": [
    "state_trans = {i : translator.translate(i).text for i in data['state'].unique()}"
   ]
  },
  {
   "cell_type": "code",
   "execution_count": 121,
   "id": "37458896",
   "metadata": {},
   "outputs": [],
   "source": [
    "data['state'] = data['state'].map(state_trans)"
   ]
  },
  {
   "cell_type": "code",
   "execution_count": 122,
   "id": "510b30d1",
   "metadata": {},
   "outputs": [
    {
     "data": {
      "text/html": [
       "<div>\n",
       "<style scoped>\n",
       "    .dataframe tbody tr th:only-of-type {\n",
       "        vertical-align: middle;\n",
       "    }\n",
       "\n",
       "    .dataframe tbody tr th {\n",
       "        vertical-align: top;\n",
       "    }\n",
       "\n",
       "    .dataframe thead th {\n",
       "        text-align: right;\n",
       "    }\n",
       "</style>\n",
       "<table border=\"1\" class=\"dataframe\">\n",
       "  <thead>\n",
       "    <tr style=\"text-align: right;\">\n",
       "      <th></th>\n",
       "      <th>collector_location</th>\n",
       "      <th>collector_id</th>\n",
       "      <th>device_id</th>\n",
       "      <th>latitude</th>\n",
       "      <th>longitude</th>\n",
       "      <th>snapshot_datetime</th>\n",
       "      <th>Year</th>\n",
       "      <th>Month</th>\n",
       "      <th>Day</th>\n",
       "      <th>Hour</th>\n",
       "      <th>DayPeriod</th>\n",
       "      <th>Season</th>\n",
       "      <th>road</th>\n",
       "      <th>state</th>\n",
       "      <th>city</th>\n",
       "    </tr>\n",
       "  </thead>\n",
       "  <tbody>\n",
       "    <tr>\n",
       "      <th>0</th>\n",
       "      <td>-MseZ2fAZ1SjLMaYOXy2</td>\n",
       "      <td>51</td>\n",
       "      <td>fe175d9955fced88</td>\n",
       "      <td>30.042313</td>\n",
       "      <td>31.336420</td>\n",
       "      <td>2022-01-05 16:06:42.373120</td>\n",
       "      <td>2022</td>\n",
       "      <td>January</td>\n",
       "      <td>Wednesday</td>\n",
       "      <td>16</td>\n",
       "      <td>afternoon</td>\n",
       "      <td>Winter</td>\n",
       "      <td>Sheikh Taha Al -Dinari Street</td>\n",
       "      <td>Cairo</td>\n",
       "      <td>Cairo</td>\n",
       "    </tr>\n",
       "    <tr>\n",
       "      <th>1</th>\n",
       "      <td>-MseZ3tJG5FeQy7OEB6H</td>\n",
       "      <td>51</td>\n",
       "      <td>fe175d9955fced88</td>\n",
       "      <td>30.042313</td>\n",
       "      <td>31.336420</td>\n",
       "      <td>2022-01-05 16:06:47.379586</td>\n",
       "      <td>2022</td>\n",
       "      <td>January</td>\n",
       "      <td>Wednesday</td>\n",
       "      <td>16</td>\n",
       "      <td>afternoon</td>\n",
       "      <td>Winter</td>\n",
       "      <td>Sheikh Taha Al -Dinari Street</td>\n",
       "      <td>Cairo</td>\n",
       "      <td>Cairo</td>\n",
       "    </tr>\n",
       "    <tr>\n",
       "      <th>2</th>\n",
       "      <td>-MseZ57uwVY_hYJ_G8nF</td>\n",
       "      <td>51</td>\n",
       "      <td>fe175d9955fced88</td>\n",
       "      <td>30.042313</td>\n",
       "      <td>31.336420</td>\n",
       "      <td>2022-01-05 16:06:52.473970</td>\n",
       "      <td>2022</td>\n",
       "      <td>January</td>\n",
       "      <td>Wednesday</td>\n",
       "      <td>16</td>\n",
       "      <td>afternoon</td>\n",
       "      <td>Winter</td>\n",
       "      <td>Sheikh Taha Al -Dinari Street</td>\n",
       "      <td>Cairo</td>\n",
       "      <td>Cairo</td>\n",
       "    </tr>\n",
       "    <tr>\n",
       "      <th>3</th>\n",
       "      <td>-MseZ6JS8eUMGMr-6cF0</td>\n",
       "      <td>51</td>\n",
       "      <td>fe175d9955fced88</td>\n",
       "      <td>30.042313</td>\n",
       "      <td>31.336420</td>\n",
       "      <td>2022-01-05 16:06:57.308858</td>\n",
       "      <td>2022</td>\n",
       "      <td>January</td>\n",
       "      <td>Wednesday</td>\n",
       "      <td>16</td>\n",
       "      <td>afternoon</td>\n",
       "      <td>Winter</td>\n",
       "      <td>Sheikh Taha Al -Dinari Street</td>\n",
       "      <td>Cairo</td>\n",
       "      <td>Cairo</td>\n",
       "    </tr>\n",
       "    <tr>\n",
       "      <th>4</th>\n",
       "      <td>-MseZ7XzNXS16vXvrVYO</td>\n",
       "      <td>51</td>\n",
       "      <td>fe175d9955fced88</td>\n",
       "      <td>30.042313</td>\n",
       "      <td>31.336420</td>\n",
       "      <td>2022-01-05 16:07:02.335482</td>\n",
       "      <td>2022</td>\n",
       "      <td>January</td>\n",
       "      <td>Wednesday</td>\n",
       "      <td>16</td>\n",
       "      <td>afternoon</td>\n",
       "      <td>Winter</td>\n",
       "      <td>Sheikh Taha Al -Dinari Street</td>\n",
       "      <td>Cairo</td>\n",
       "      <td>Cairo</td>\n",
       "    </tr>\n",
       "    <tr>\n",
       "      <th>...</th>\n",
       "      <td>...</td>\n",
       "      <td>...</td>\n",
       "      <td>...</td>\n",
       "      <td>...</td>\n",
       "      <td>...</td>\n",
       "      <td>...</td>\n",
       "      <td>...</td>\n",
       "      <td>...</td>\n",
       "      <td>...</td>\n",
       "      <td>...</td>\n",
       "      <td>...</td>\n",
       "      <td>...</td>\n",
       "      <td>...</td>\n",
       "      <td>...</td>\n",
       "      <td>...</td>\n",
       "    </tr>\n",
       "    <tr>\n",
       "      <th>21949</th>\n",
       "      <td>-N4SsdHjs4Ks-F1BnzNV</td>\n",
       "      <td>257</td>\n",
       "      <td>a685f0f069042727</td>\n",
       "      <td>30.562312</td>\n",
       "      <td>31.560080</td>\n",
       "      <td>2022-06-13 18:25:39.247044</td>\n",
       "      <td>2022</td>\n",
       "      <td>June</td>\n",
       "      <td>Monday</td>\n",
       "      <td>18</td>\n",
       "      <td>afternoon</td>\n",
       "      <td>Summer</td>\n",
       "      <td>Taher Street</td>\n",
       "      <td>Eastern</td>\n",
       "      <td>Zagazig</td>\n",
       "    </tr>\n",
       "    <tr>\n",
       "      <th>21950</th>\n",
       "      <td>-N4SsdlW6fgRvBC5U-2x</td>\n",
       "      <td>257</td>\n",
       "      <td>a685f0f069042727</td>\n",
       "      <td>30.562312</td>\n",
       "      <td>31.560080</td>\n",
       "      <td>2022-06-13 18:25:41.217370</td>\n",
       "      <td>2022</td>\n",
       "      <td>June</td>\n",
       "      <td>Monday</td>\n",
       "      <td>18</td>\n",
       "      <td>afternoon</td>\n",
       "      <td>Summer</td>\n",
       "      <td>Taher Street</td>\n",
       "      <td>Eastern</td>\n",
       "      <td>Zagazig</td>\n",
       "    </tr>\n",
       "    <tr>\n",
       "      <th>21951</th>\n",
       "      <td>-N4SsepalJNpxDsjo3xf</td>\n",
       "      <td>257</td>\n",
       "      <td>a685f0f069042727</td>\n",
       "      <td>30.562305</td>\n",
       "      <td>31.560091</td>\n",
       "      <td>2022-06-13 18:25:45.574352</td>\n",
       "      <td>2022</td>\n",
       "      <td>June</td>\n",
       "      <td>Monday</td>\n",
       "      <td>18</td>\n",
       "      <td>afternoon</td>\n",
       "      <td>Summer</td>\n",
       "      <td>Taher Street</td>\n",
       "      <td>Eastern</td>\n",
       "      <td>Zagazig</td>\n",
       "    </tr>\n",
       "    <tr>\n",
       "      <th>21952</th>\n",
       "      <td>-N4SsgNE5GU2N4_W3rL6</td>\n",
       "      <td>257</td>\n",
       "      <td>a685f0f069042727</td>\n",
       "      <td>30.562304</td>\n",
       "      <td>31.560093</td>\n",
       "      <td>2022-06-13 18:25:51.887048</td>\n",
       "      <td>2022</td>\n",
       "      <td>June</td>\n",
       "      <td>Monday</td>\n",
       "      <td>18</td>\n",
       "      <td>afternoon</td>\n",
       "      <td>Summer</td>\n",
       "      <td>Taher Street</td>\n",
       "      <td>Eastern</td>\n",
       "      <td>Zagazig</td>\n",
       "    </tr>\n",
       "    <tr>\n",
       "      <th>21953</th>\n",
       "      <td>-N4SshUlcPbVssLDwcRl</td>\n",
       "      <td>257</td>\n",
       "      <td>a685f0f069042727</td>\n",
       "      <td>30.562304</td>\n",
       "      <td>31.560093</td>\n",
       "      <td>2022-06-13 18:25:56.465310</td>\n",
       "      <td>2022</td>\n",
       "      <td>June</td>\n",
       "      <td>Monday</td>\n",
       "      <td>18</td>\n",
       "      <td>afternoon</td>\n",
       "      <td>Summer</td>\n",
       "      <td>Taher Street</td>\n",
       "      <td>Eastern</td>\n",
       "      <td>Zagazig</td>\n",
       "    </tr>\n",
       "  </tbody>\n",
       "</table>\n",
       "<p>21954 rows × 15 columns</p>\n",
       "</div>"
      ],
      "text/plain": [
       "         collector_location  collector_id         device_id   latitude  \\\n",
       "0      -MseZ2fAZ1SjLMaYOXy2            51  fe175d9955fced88  30.042313   \n",
       "1      -MseZ3tJG5FeQy7OEB6H            51  fe175d9955fced88  30.042313   \n",
       "2      -MseZ57uwVY_hYJ_G8nF            51  fe175d9955fced88  30.042313   \n",
       "3      -MseZ6JS8eUMGMr-6cF0            51  fe175d9955fced88  30.042313   \n",
       "4      -MseZ7XzNXS16vXvrVYO            51  fe175d9955fced88  30.042313   \n",
       "...                     ...           ...               ...        ...   \n",
       "21949  -N4SsdHjs4Ks-F1BnzNV           257  a685f0f069042727  30.562312   \n",
       "21950  -N4SsdlW6fgRvBC5U-2x           257  a685f0f069042727  30.562312   \n",
       "21951  -N4SsepalJNpxDsjo3xf           257  a685f0f069042727  30.562305   \n",
       "21952  -N4SsgNE5GU2N4_W3rL6           257  a685f0f069042727  30.562304   \n",
       "21953  -N4SshUlcPbVssLDwcRl           257  a685f0f069042727  30.562304   \n",
       "\n",
       "       longitude           snapshot_datetime  Year    Month        Day  Hour  \\\n",
       "0      31.336420  2022-01-05 16:06:42.373120  2022  January  Wednesday    16   \n",
       "1      31.336420  2022-01-05 16:06:47.379586  2022  January  Wednesday    16   \n",
       "2      31.336420  2022-01-05 16:06:52.473970  2022  January  Wednesday    16   \n",
       "3      31.336420  2022-01-05 16:06:57.308858  2022  January  Wednesday    16   \n",
       "4      31.336420  2022-01-05 16:07:02.335482  2022  January  Wednesday    16   \n",
       "...          ...                         ...   ...      ...        ...   ...   \n",
       "21949  31.560080  2022-06-13 18:25:39.247044  2022     June     Monday    18   \n",
       "21950  31.560080  2022-06-13 18:25:41.217370  2022     June     Monday    18   \n",
       "21951  31.560091  2022-06-13 18:25:45.574352  2022     June     Monday    18   \n",
       "21952  31.560093  2022-06-13 18:25:51.887048  2022     June     Monday    18   \n",
       "21953  31.560093  2022-06-13 18:25:56.465310  2022     June     Monday    18   \n",
       "\n",
       "       DayPeriod  Season                           road    state     city  \n",
       "0      afternoon  Winter  Sheikh Taha Al -Dinari Street    Cairo    Cairo  \n",
       "1      afternoon  Winter  Sheikh Taha Al -Dinari Street    Cairo    Cairo  \n",
       "2      afternoon  Winter  Sheikh Taha Al -Dinari Street    Cairo    Cairo  \n",
       "3      afternoon  Winter  Sheikh Taha Al -Dinari Street    Cairo    Cairo  \n",
       "4      afternoon  Winter  Sheikh Taha Al -Dinari Street    Cairo    Cairo  \n",
       "...          ...     ...                            ...      ...      ...  \n",
       "21949  afternoon  Summer                   Taher Street  Eastern  Zagazig  \n",
       "21950  afternoon  Summer                   Taher Street  Eastern  Zagazig  \n",
       "21951  afternoon  Summer                   Taher Street  Eastern  Zagazig  \n",
       "21952  afternoon  Summer                   Taher Street  Eastern  Zagazig  \n",
       "21953  afternoon  Summer                   Taher Street  Eastern  Zagazig  \n",
       "\n",
       "[21954 rows x 15 columns]"
      ]
     },
     "execution_count": 122,
     "metadata": {},
     "output_type": "execute_result"
    }
   ],
   "source": [
    "data"
   ]
  },
  {
   "cell_type": "code",
   "execution_count": 123,
   "id": "66c0f619",
   "metadata": {},
   "outputs": [],
   "source": [
    "#data.to_csv('GCM.csv' , index = False)"
   ]
  },
  {
   "cell_type": "code",
   "execution_count": null,
   "id": "882f13a6",
   "metadata": {},
   "outputs": [],
   "source": []
  }
 ],
 "metadata": {
  "kernelspec": {
   "display_name": "Python 3 (ipykernel)",
   "language": "python",
   "name": "python3"
  },
  "language_info": {
   "codemirror_mode": {
    "name": "ipython",
    "version": 3
   },
   "file_extension": ".py",
   "mimetype": "text/x-python",
   "name": "python",
   "nbconvert_exporter": "python",
   "pygments_lexer": "ipython3",
   "version": "3.10.4"
  }
 },
 "nbformat": 4,
 "nbformat_minor": 5
}
